{
 "cells": [
  {
   "cell_type": "code",
   "execution_count": 1,
   "metadata": {},
   "outputs": [],
   "source": [
    "from send_mail import send_mail_outlook, check_emails_available_outlook, client\n",
    "from variables import *\n",
    "from typing import List, Union"
   ]
  },
  {
   "cell_type": "code",
   "execution_count": 4,
   "metadata": {},
   "outputs": [
    {
     "name": "stdout",
     "output_type": "stream",
     "text": [
      "almeidabarrosdf@gmail.com\n",
      "detlefd@gmx.net\n",
      "detlefd@gmx.net: NOT found on Outlook.\n"
     ]
    },
    {
     "ename": "com_error",
     "evalue": "(-2147352571, 'Tipo não correspondente.', None, 1)",
     "output_type": "error",
     "traceback": [
      "\u001b[1;31m---------------------------------------------------------------------------\u001b[0m",
      "\u001b[1;31mcom_error\u001b[0m                                 Traceback (most recent call last)",
      "Cell \u001b[1;32mIn[4], line 12\u001b[0m\n\u001b[0;32m     10\u001b[0m \u001b[39mif\u001b[39;00m check_emails_available_outlook(outlook, email[\u001b[39m'\u001b[39m\u001b[39mfrom\u001b[39m\u001b[39m'\u001b[39m]):\n\u001b[0;32m     11\u001b[0m     \u001b[39mif\u001b[39;00m dict_conditions[email[\u001b[39m'\u001b[39m\u001b[39mcondition\u001b[39m\u001b[39m'\u001b[39m]]:\n\u001b[1;32m---> 12\u001b[0m         send_mail_outlook(\n\u001b[0;32m     13\u001b[0m             outlook \u001b[39m=\u001b[39;49m outlook,\n\u001b[0;32m     14\u001b[0m             send_from \u001b[39m=\u001b[39;49m email[\u001b[39m'\u001b[39;49m\u001b[39mfrom\u001b[39;49m\u001b[39m'\u001b[39;49m],\n\u001b[0;32m     15\u001b[0m             send_to \u001b[39m=\u001b[39;49m email[\u001b[39m'\u001b[39;49m\u001b[39mmailto\u001b[39;49m\u001b[39m'\u001b[39;49m],\n\u001b[0;32m     16\u001b[0m             subject \u001b[39m=\u001b[39;49m email[\u001b[39m'\u001b[39;49m\u001b[39msubject\u001b[39;49m\u001b[39m'\u001b[39;49m],\n\u001b[0;32m     17\u001b[0m             body \u001b[39m=\u001b[39;49m \u001b[39mopen\u001b[39;49m(os\u001b[39m.\u001b[39;49mpath\u001b[39m.\u001b[39;49mjoin(email_messages_path,email[\u001b[39m'\u001b[39;49m\u001b[39mtext\u001b[39;49m\u001b[39m'\u001b[39;49m]),encoding\u001b[39m=\u001b[39;49m\u001b[39m\"\u001b[39;49m\u001b[39mUTF-8\u001b[39;49m\u001b[39m\"\u001b[39;49m)\u001b[39m.\u001b[39;49mread(),\n\u001b[0;32m     18\u001b[0m             attachments \u001b[39m=\u001b[39;49m [list_pdf_files[\u001b[39m0\u001b[39;49m]],\n\u001b[0;32m     19\u001b[0m         )\n",
      "File \u001b[1;32mc:\\Users\\Vinicius\\Documents\\Eurex\\send_mail.py:61\u001b[0m, in \u001b[0;36msend_mail_outlook\u001b[1;34m(outlook, send_from, send_to, subject, body, attachments)\u001b[0m\n\u001b[0;32m     59\u001b[0m message\u001b[39m.\u001b[39mBody \u001b[39m=\u001b[39m body\n\u001b[0;32m     60\u001b[0m message\u001b[39m.\u001b[39mTo \u001b[39m=\u001b[39m \u001b[39m\"\u001b[39m\u001b[39m;\u001b[39m\u001b[39m\"\u001b[39m\u001b[39m.\u001b[39mjoin(send_to)\n\u001b[1;32m---> 61\u001b[0m message\u001b[39m.\u001b[39;49m_oleobj_\u001b[39m.\u001b[39;49mInvoke(\u001b[39m*\u001b[39;49m(\u001b[39m64209\u001b[39;49m, \u001b[39m0\u001b[39;49m, \u001b[39m8\u001b[39;49m, \u001b[39m0\u001b[39;49m, account))\n\u001b[0;32m     62\u001b[0m \u001b[39mfor\u001b[39;00m attachment \u001b[39min\u001b[39;00m attachments:\n\u001b[0;32m     63\u001b[0m     abs_path  \u001b[39m=\u001b[39m os\u001b[39m.\u001b[39m path\u001b[39m.\u001b[39m abspath(attachment)\n",
      "\u001b[1;31mcom_error\u001b[0m: (-2147352571, 'Tipo não correspondente.', None, 1)"
     ]
    }
   ],
   "source": [
    "outlook = client.Dispatch('Outlook.Application')\n",
    "\n",
    "\n",
    "dict_conditions = {\n",
    "    \"always\" : True,\n",
    "}\n",
    "\n",
    "for email in list_emails:\n",
    "    print(email['from'])\n",
    "    if check_emails_available_outlook(outlook, email['from']):\n",
    "        if dict_conditions[email['condition']]:\n",
    "            send_mail_outlook(\n",
    "                outlook = outlook,\n",
    "                send_from = email['from'],\n",
    "                send_to = email['mailto'],\n",
    "                subject = email['subject'],\n",
    "                body = open(os.path.join(email_messages_path,email['text']),encoding=\"UTF-8\").read(),\n",
    "                attachments = [list_pdf_files[0]],\n",
    "            )"
   ]
  },
  {
   "cell_type": "code",
   "execution_count": 3,
   "metadata": {},
   "outputs": [
    {
     "data": {
      "text/plain": [
       "{'from': 'detlefd@gmx.net',\n",
       " 'mailto': ['MyTest20230902@outlook.de',\n",
       "  'dummy_eurex@outlook.com',\n",
       "  'almeidabarrosdf@gmail.com'],\n",
       " 'subject': 'OI-Tabelle',\n",
       " 'text': 'dummy_msg.txt',\n",
       " 'condition': 'always'}"
      ]
     },
     "execution_count": 3,
     "metadata": {},
     "output_type": "execute_result"
    }
   ],
   "source": [
    "email"
   ]
  }
 ],
 "metadata": {
  "kernelspec": {
   "display_name": "base",
   "language": "python",
   "name": "python3"
  },
  "language_info": {
   "codemirror_mode": {
    "name": "ipython",
    "version": 3
   },
   "file_extension": ".py",
   "mimetype": "text/x-python",
   "name": "python",
   "nbconvert_exporter": "python",
   "pygments_lexer": "ipython3",
   "version": "3.9.17 (main, Jul  5 2023, 21:22:06) [MSC v.1916 64 bit (AMD64)]"
  },
  "orig_nbformat": 4,
  "vscode": {
   "interpreter": {
    "hash": "bc2cefd0281c801cfecce64a6c6f045a8fc1e4c861b6297eb4e87b91b65006cb"
   }
  }
 },
 "nbformat": 4,
 "nbformat_minor": 2
}
