{
 "cells": [
  {
   "cell_type": "code",
   "execution_count": 14,
   "metadata": {},
   "outputs": [],
   "source": [
    "from send_mail import send_mail\n",
    "from variables import *"
   ]
  },
  {
   "cell_type": "code",
   "execution_count": 13,
   "metadata": {},
   "outputs": [],
   "source": [
    "dict_conditions = {\n",
    "    \"always\" : True,\n",
    "}\n",
    "\n",
    "\n",
    "for email in list_emails:\n",
    "    credentials = list_credentials[email['from']]\n",
    "    smtp_config = list_emails_providers[credentials['provider']]['smtp']\n",
    "    if dict_conditions[email['condition']]:\n",
    "        send_mail(\n",
    "            send_from = email['from'],\n",
    "            send_to = email['mailto'],\n",
    "            subject = email['subject'],\n",
    "            body = open(os.path.join(email_messages_path,email['text']),encoding=\"UTF-8\").read(),\n",
    "            attachments = [list_pdf_files[0]],\n",
    "            smtp_url = smtp_config['server'],\n",
    "            port = smtp_config['port'],\n",
    "            username = email['from'], \n",
    "            password = credentials['password']\n",
    "        )"
   ]
  }
 ],
 "metadata": {
  "kernelspec": {
   "display_name": "base",
   "language": "python",
   "name": "python3"
  },
  "language_info": {
   "codemirror_mode": {
    "name": "ipython",
    "version": 3
   },
   "file_extension": ".py",
   "mimetype": "text/x-python",
   "name": "python",
   "nbconvert_exporter": "python",
   "pygments_lexer": "ipython3",
   "version": "3.9.17 (main, Jul  5 2023, 21:22:06) [MSC v.1916 64 bit (AMD64)]"
  },
  "orig_nbformat": 4,
  "vscode": {
   "interpreter": {
    "hash": "bc2cefd0281c801cfecce64a6c6f045a8fc1e4c861b6297eb4e87b91b65006cb"
   }
  }
 },
 "nbformat": 4,
 "nbformat_minor": 2
}
