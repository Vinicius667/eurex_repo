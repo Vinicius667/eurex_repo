{
 "cells": [
  {
   "cell_type": "code",
   "execution_count": 65,
   "id": "309728b2",
   "metadata": {},
   "outputs": [],
   "source": [
    "import requests\n",
    "import json\n",
    "import pandas as pd\n",
    "import xlwings as xw\n",
    "from datetime import datetime"
   ]
  },
  {
   "cell_type": "code",
   "execution_count": 66,
   "id": "920fa506",
   "metadata": {},
   "outputs": [
    {
     "name": "stdout",
     "output_type": "stream",
     "text": [
      "DAX = 0; STOXX = 1   :0\n",
      "DAX\n"
     ]
    }
   ],
   "source": [
    "auswahl = input(\"DAX = 0; STOXX = 1   :\")\n",
    "if auswahl == \"1\":\n",
    "# STOXX\n",
    "    url = 'https://www.eurex.com/api/v1/overallstatistics/69660'\n",
    "    print(\"STOXX\")\n",
    "else:\n",
    "# DAX\n",
    "    url = 'https://www.eurex.com/api/v1/overallstatistics/70044'\n",
    "    print (\"DAX\")"
   ]
  },
  {
   "cell_type": "code",
   "execution_count": 67,
   "id": "74b2153f",
   "metadata": {},
   "outputs": [],
   "source": [
    "def clear():\n",
    " \n",
    "    # for windows\n",
    "    if name == 'nt':\n",
    "        _ = system('cls')\n",
    " \n",
    "    # for mac and linux(here, os.name is 'posix')\n",
    "    else:\n",
    "        _ = system('clear')\n",
    "\n"
   ]
  },
  {
   "cell_type": "code",
   "execution_count": 68,
   "id": "9d7b7677",
   "metadata": {},
   "outputs": [],
   "source": [
    "def get_idx(list_idxs):\n",
    "    while(True):\n",
    "        date_idxs = [0, 1]\n",
    "        #date_idxs = input(\"Numbers corresponding to the desired dates separated by spaces: \").split(' ')\n",
    "        date_idxs = list(map(int,date_idxs))\n",
    "        date_idxs = [idx for idx in date_idxs if idx in list_idxs]\n",
    "        if len(date_idxs) < 1:\n",
    "            print(\"No valid indexes passed.\")\n",
    "        else:\n",
    "            return date_idxs\n"
   ]
  },
  {
   "cell_type": "code",
   "execution_count": 69,
   "id": "5e3c4841",
   "metadata": {},
   "outputs": [
    {
     "name": "stdout",
     "output_type": "stream",
     "text": [
      "Getting data from EUREX...\n"
     ]
    }
   ],
   "source": [
    "headers = {'Accept': '*/*'}\n",
    "params_ov = {'filtertype': 'overview', 'contracttype': 'M'}\n",
    "print('Getting data from EUREX...')"
   ]
  },
  {
   "cell_type": "code",
   "execution_count": 70,
   "id": "9dd7dae5",
   "metadata": {},
   "outputs": [],
   "source": [
    "response = requests.get(url, params=params_ov, headers=headers)\n",
    "\n",
    "if not response.ok:\n",
    "    raise ValueError(\"Conection failed.\")"
   ]
  },
  {
   "cell_type": "code",
   "execution_count": 71,
   "id": "a45347e4",
   "metadata": {},
   "outputs": [],
   "source": [
    "tradingDates = pd.to_datetime(pd.Series(response.json()['header']['tradingDates']),format=\"%d-%m-%Y %H:%M\")"
   ]
  },
  {
   "cell_type": "code",
   "execution_count": 72,
   "id": "a115519e",
   "metadata": {},
   "outputs": [],
   "source": [
    "tradingMeta = response.json()['meta']['isin']"
   ]
  },
  {
   "cell_type": "code",
   "execution_count": 73,
   "id": "53c8f9d4",
   "metadata": {},
   "outputs": [
    {
     "name": "stdout",
     "output_type": "stream",
     "text": [
      "Index     Date DE0008469495\n"
     ]
    }
   ],
   "source": [
    "print(\"Index     Date\", tradingMeta)"
   ]
  },
  {
   "cell_type": "code",
   "execution_count": 74,
   "id": "d7abf9d6",
   "metadata": {},
   "outputs": [
    {
     "name": "stdout",
     "output_type": "stream",
     "text": [
      " 0      26-10-2023\n",
      " 1      25-10-2023\n",
      " 2      24-10-2023\n",
      " 3      23-10-2023\n",
      " 4      20-10-2023\n",
      " 5      19-10-2023\n",
      " 6      18-10-2023\n",
      " 7      17-10-2023\n",
      " 8      16-10-2023\n",
      " 9      13-10-2023\n",
      " 10     12-10-2023\n",
      " 11     11-10-2023\n",
      " 12     10-10-2023\n",
      " 13     09-10-2023\n",
      " 14     06-10-2023\n",
      " 15     05-10-2023\n",
      " 16     04-10-2023\n",
      " 17     03-10-2023\n",
      " 18     02-10-2023\n",
      " 19     29-09-2023\n",
      " 20     28-09-2023\n"
     ]
    }
   ],
   "source": [
    "for idx,date in enumerate(tradingDates.dt.strftime(\"%d-%m-%Y\")):\n",
    "    print(f\" {idx:<6} {date:^3}\")"
   ]
  },
  {
   "cell_type": "code",
   "execution_count": 75,
   "id": "d10c96a7",
   "metadata": {},
   "outputs": [],
   "source": [
    "date_idxs = get_idx(tradingDates.index)"
   ]
  },
  {
   "cell_type": "code",
   "execution_count": 76,
   "id": "abfe3028",
   "metadata": {},
   "outputs": [],
   "source": [
    "params_ov['busdate'] = tradingDates[0].strftime(\"%Y%m%d\")"
   ]
  },
  {
   "cell_type": "code",
   "execution_count": 77,
   "id": "599ac11f",
   "metadata": {},
   "outputs": [],
   "source": [
    "response = requests.get(url, params=params_ov, headers=headers)\n",
    "if not response.ok:\n",
    "        raise ValueError(\"Conection failed.\")"
   ]
  },
  {
   "cell_type": "code",
   "execution_count": 78,
   "id": "6f900a3c",
   "metadata": {},
   "outputs": [],
   "source": [
    "params_details = {}"
   ]
  },
  {
   "cell_type": "code",
   "execution_count": 79,
   "id": "d91e2b7c",
   "metadata": {},
   "outputs": [
    {
     "name": "stdout",
     "output_type": "stream",
     "text": [
      "          date  callVolume  callOpenInterest  putVolume  putOpenInterest  \\\n",
      "0   17-11-2023      7351.0           62690.0     6765.0         119621.0   \n",
      "1   15-12-2023      4051.0          184419.0     9753.0         455822.0   \n",
      "2   19-01-2024       787.0            2228.0     1090.0           1994.0   \n",
      "3   15-03-2024      2423.0           46817.0     3597.0         156238.0   \n",
      "4   21-06-2024       601.0           42926.0      466.0         107538.0   \n",
      "5   20-09-2024       521.0            8165.0       18.0          17922.0   \n",
      "6   20-12-2024        53.0           22327.0        6.0          28753.0   \n",
      "7   21-03-2025         0.0               2.0        0.0              6.0   \n",
      "8   20-06-2025         0.0            7004.0        0.0              2.0   \n",
      "9   19-09-2025         0.0            1600.0        0.0              0.0   \n",
      "10  19-12-2025         0.0              24.0        0.0           6329.0   \n",
      "11  20-03-2026         0.0               0.0        0.0              0.0   \n",
      "12  19-06-2026         0.0             350.0        0.0            400.0   \n",
      "13  18-09-2026         0.0               0.0        0.0              0.0   \n",
      "14  18-12-2026         0.0            4001.0        0.0           4354.0   \n",
      "15  17-12-2027         0.0             350.0        0.0           7000.0   \n",
      "\n",
      "   putCallRatio    total contractType  \n",
      "0         0.920  14116.0            M  \n",
      "1         2.408  13804.0            M  \n",
      "2         1.385   1877.0            M  \n",
      "3         1.485   6020.0            M  \n",
      "4         0.775   1067.0            M  \n",
      "5         0.035    539.0            M  \n",
      "6         0.113     59.0            M  \n",
      "7           n/a      0.0            M  \n",
      "8           n/a      0.0            M  \n",
      "9           n/a      0.0            M  \n",
      "10          n/a      0.0            M  \n",
      "11          n/a      0.0            M  \n",
      "12          n/a      0.0            M  \n",
      "13          n/a      0.0            M  \n",
      "14          n/a      0.0            M  \n",
      "15          n/a      0.0            M  \n"
     ]
    }
   ],
   "source": [
    "if 'dataRows' in response.json(): \n",
    "    overview_df = pd.DataFrame(response.json()['dataRows'])\n",
    "    overview_df = overview_df[overview_df.contractType == 'M']\n",
    "    overview_df.sort_values('date',ignore_index=True,inplace=True)\n",
    "    old_date_col = overview_df.loc[:,'date']\n",
    "    overview_df.date = pd.to_datetime(overview_df.date,format='%Y%m%d').dt.strftime('%d-%m-%Y')\n",
    "    print(overview_df)\n",
    "    date_idxs2 = get_idx(overview_df.index)"
   ]
  },
  {
   "cell_type": "code",
   "execution_count": 80,
   "id": "f64cedf6",
   "metadata": {},
   "outputs": [],
   "source": [
    "params_details['filtertype'] = 'detail'"
   ]
  },
  {
   "cell_type": "code",
   "execution_count": 81,
   "id": "44556c13",
   "metadata": {},
   "outputs": [],
   "source": [
    "params_details['busdate'] = f\"{tradingDates[0].strftime('%Y%m%d')}\""
   ]
  },
  {
   "cell_type": "code",
   "execution_count": 82,
   "id": "1f68dcbe",
   "metadata": {},
   "outputs": [],
   "source": [
    "params_details['contracttype'] = 'M'"
   ]
  },
  {
   "cell_type": "code",
   "execution_count": 83,
   "id": "0d8d14a4",
   "metadata": {},
   "outputs": [],
   "source": [
    "params_details['productdate'] = old_date_col[0] # new contract 1 was 0"
   ]
  },
  {
   "cell_type": "code",
   "execution_count": 84,
   "id": "fa5fac40",
   "metadata": {},
   "outputs": [],
   "source": [
    "response = requests.get(url, params=params_details, headers=headers)\n",
    "if not response.ok:\n",
    "    raise ValueError(\"Conection failed.\")"
   ]
  },
  {
   "cell_type": "code",
   "execution_count": 85,
   "id": "b398e289",
   "metadata": {},
   "outputs": [],
   "source": [
    "contractsCall_df = pd.concat([pd.DataFrame(response.json()['dataRowsCall'])])"
   ]
  },
  {
   "cell_type": "code",
   "execution_count": 86,
   "id": "452acbcf",
   "metadata": {},
   "outputs": [],
   "source": [
    "contractsCall_df = contractsCall_df.sort_values(list(contractsCall_df.columns)[1:])"
   ]
  },
  {
   "cell_type": "code",
   "execution_count": 87,
   "id": "30c1b00b",
   "metadata": {},
   "outputs": [],
   "source": [
    "contractsPut_df = pd.concat([pd.DataFrame(response.json()['dataRowsPut'])])"
   ]
  },
  {
   "cell_type": "code",
   "execution_count": 88,
   "id": "0288586a",
   "metadata": {},
   "outputs": [],
   "source": [
    "contractsPut_df = contractsPut_df.sort_values(list(contractsPut_df.columns)[1:])"
   ]
  },
  {
   "cell_type": "markdown",
   "id": "59d5a55e",
   "metadata": {},
   "source": [
    "Vorletzter Handelstag: tradingDates[1]"
   ]
  },
  {
   "cell_type": "code",
   "execution_count": 89,
   "id": "069b6fab",
   "metadata": {},
   "outputs": [],
   "source": [
    "params_details['busdate'] = f\"{tradingDates[1].strftime('%Y%m%d')}\""
   ]
  },
  {
   "cell_type": "code",
   "execution_count": 90,
   "id": "b604b40f",
   "metadata": {},
   "outputs": [],
   "source": [
    "response = requests.get(url, params=params_details, headers=headers)\n",
    "if not response.ok:\n",
    "    raise ValueError(\"Conection failed.\")"
   ]
  },
  {
   "cell_type": "code",
   "execution_count": 91,
   "id": "72cd7e6c",
   "metadata": {},
   "outputs": [],
   "source": [
    "contractsCall_l_df = pd.concat([pd.DataFrame(response.json()['dataRowsCall'])])\n",
    "contractsCall_l_df = contractsCall_l_df.sort_values(list(contractsCall_l_df.columns)[1:])\n",
    "contractsPut_l_df = pd.concat([pd.DataFrame(response.json()['dataRowsPut'])])\n",
    "contractsPut_l_df = contractsPut_l_df.sort_values(list(contractsPut_l_df.columns)[1:])"
   ]
  },
  {
   "cell_type": "markdown",
   "id": "d733e9d1",
   "metadata": {},
   "source": [
    "Nächster Kontrakt, letzter Handelstag: old_date_col[1], tradingDates[0]"
   ]
  },
  {
   "cell_type": "code",
   "execution_count": 92,
   "id": "68d577fd",
   "metadata": {},
   "outputs": [],
   "source": [
    "params_details['busdate'] = f\"{tradingDates[0].strftime('%Y%m%d')}\""
   ]
  },
  {
   "cell_type": "code",
   "execution_count": 93,
   "id": "00aa976e",
   "metadata": {},
   "outputs": [],
   "source": [
    "params_details['productdate'] = old_date_col[1] # new contract 2 was 1"
   ]
  },
  {
   "cell_type": "code",
   "execution_count": 94,
   "id": "c6aca2ea",
   "metadata": {},
   "outputs": [],
   "source": [
    "response = requests.get(url, params=params_details, headers=headers)\n",
    "if not response.ok:\n",
    "    raise ValueError(\"Conection failed.\")"
   ]
  },
  {
   "cell_type": "code",
   "execution_count": 95,
   "id": "e8f1eeb9",
   "metadata": {},
   "outputs": [],
   "source": [
    "contractsCall_N_df = pd.concat([pd.DataFrame(response.json()['dataRowsCall'])])\n",
    "contractsCall_N_df = contractsCall_N_df.sort_values(list(contractsCall_N_df.columns)[1:])\n",
    "contractsPut_N_df = pd.concat([pd.DataFrame(response.json()['dataRowsPut'])])\n",
    "contractsPut_N_df = contractsPut_N_df.sort_values(list(contractsPut_N_df.columns)[1:])"
   ]
  },
  {
   "cell_type": "markdown",
   "id": "014090e8",
   "metadata": {},
   "source": [
    "Schrieben in ein Excelfile als Backup"
   ]
  },
  {
   "cell_type": "code",
   "execution_count": 96,
   "id": "515a8737",
   "metadata": {},
   "outputs": [
    {
     "name": "stdout",
     "output_type": "stream",
     "text": [
      "DAX\n"
     ]
    }
   ],
   "source": [
    "if auswahl == \"1\":\n",
    "# STOXX\n",
    "    print(\"STOXX\")\n",
    "    with pd.ExcelWriter(f\"STOXX_{tradingMeta}_{tradingDates[0].strftime('%Y_%m_%d')}_{overview_df['date'][0]}.xlsx\") as writer:\n",
    "        contractsCall_df.to_excel(writer, sheet_name=f\"STOXX_Call_Front\", index=False)\n",
    "        contractsPut_df.to_excel(writer, sheet_name=f\"STOXX_Put_Front\", index=False)\n",
    "        contractsCall_l_df.to_excel(writer, sheet_name=f\"STOXX_CallFront-1\", index=False)\n",
    "        contractsPut_l_df.to_excel(writer, sheet_name=f\"STOXX_PutFront-1\", index=False)\n",
    "        contractsCall_N_df.to_excel(writer, sheet_name=f\"STOXX_Call+01\", index=False)\n",
    "        contractsPut_N_df.to_excel(writer, sheet_name=f\"STOXX_Put+01\", index=False)\n",
    "else:\n",
    "# DAX\n",
    "    print (\"DAX\")\n",
    "    with pd.ExcelWriter(f\"DAX_{tradingMeta}_{tradingDates[0].strftime('%Y_%m_%d')}_{overview_df['date'][0]}.xlsx\") as writer:\n",
    "        contractsCall_df.to_excel(writer, sheet_name=f\"Call_Front\", index=False)\n",
    "        contractsPut_df.to_excel(writer, sheet_name=f\"Put_Front\", index=False)\n",
    "        contractsCall_l_df.to_excel(writer, sheet_name=f\"CallFront-1\", index=False)\n",
    "        contractsPut_l_df.to_excel(writer, sheet_name=f\"PutFront-1\", index=False)\n",
    "        contractsCall_N_df.to_excel(writer, sheet_name=f\"Call+01\", index=False)\n",
    "        contractsPut_N_df.to_excel(writer, sheet_name=f\"Put+01\", index=False)"
   ]
  },
  {
   "cell_type": "code",
   "execution_count": 391,
   "id": "5e656fec",
   "metadata": {},
   "outputs": [
    {
     "ename": "RuntimeError",
     "evalue": "No active exception to reraise",
     "output_type": "error",
     "traceback": [
      "\u001b[1;31m---------------------------------------------------------------------------\u001b[0m",
      "\u001b[1;31mRuntimeError\u001b[0m                              Traceback (most recent call last)",
      "Input \u001b[1;32mIn [391]\u001b[0m, in \u001b[0;36m<cell line: 1>\u001b[1;34m()\u001b[0m\n\u001b[1;32m----> 1\u001b[0m \u001b[38;5;28;01mraise\u001b[39;00m\n",
      "\u001b[1;31mRuntimeError\u001b[0m: No active exception to reraise"
     ]
    }
   ],
   "source": [
    "raise\n",
    "#print(f\"{tradingMeta}_{tradingDates[0].strftime('%Y_%m_%d')}_{overview_df['date'][0]}.xlsx\")"
   ]
  },
  {
   "cell_type": "code",
   "execution_count": null,
   "id": "bf135e35",
   "metadata": {},
   "outputs": [],
   "source": [
    "now = datetime.now()\n",
    "dt_string = now.strftime(\"%d-%m-%Y_%H_%M_%S\")"
   ]
  },
  {
   "cell_type": "code",
   "execution_count": null,
   "id": "fb3b21a1",
   "metadata": {
    "scrolled": true
   },
   "outputs": [],
   "source": [
    "akt_datum = input (f\"Datum in Form 2023-08-16: \")\n",
    "#akt_datum = input (f\"Datum in Form \" + now.strftime(\"%Y-%m-%d))\n",
    "app = xw.App(visible = False)\n",
    "# Load Wookbook"
   ]
  },
  {
   "cell_type": "code",
   "execution_count": null,
   "id": "84c090c0",
   "metadata": {},
   "outputs": [],
   "source": [
    "if auswahl == \"1\":\n",
    "# STOXX\n",
    "    print (\"STOXX\")\n",
    "    oi_pfad= f\"C:\\\\Detlef\\\\Tradematiker\\\\Research\\\\Optionen\\\\OI-Abfrage\\\\STOXX\\\\STOXX_OI-Abfrage {akt_datum} V9.00.xlsm\"\n",
    "    print(oi_pfad)\n",
    "    wb = xw.books.open(oi_pfad)\n",
    "    # define sheets\n",
    "    Sheet1 = wb.sheets['STOXX_Put_Front']\n",
    "    Sheet2 = wb.sheets['STOXX_Call_Front']\n",
    "    Sheet3 = wb.sheets['STOXX_Put+01']\n",
    "    Sheet4 = wb.sheets['STOXX_Call+01']\n",
    "    Sheet5 = wb.sheets['STOXX_PutFront-1']\n",
    "    Sheet6 = wb.sheets['STOXX_CallFront-1']\n",
    "else:\n",
    "# DAX\n",
    "    print (\"DAX\")\n",
    "    oi_pfad= f\"C:\\\\Detlef\\\\Tradematiker\\\\Research\\\\Optionen\\\\OI-Abfrage\\\\T_OI-Abfrage {akt_datum} V9.00.xlsm\"\n",
    "    print(oi_pfad)\n",
    "    wb = xw.books.open(oi_pfad)\n",
    "    Sheet1 = wb.sheets['Put_Front']\n",
    "    Sheet2 = wb.sheets['Call_Front']\n",
    "    Sheet3 = wb.sheets['Put+01']\n",
    "    Sheet4 = wb.sheets['Call+01']\n",
    "    Sheet5 = wb.sheets['PutFront-1']\n",
    "    Sheet6 = wb.sheets['CallFront-1']\n",
    "\n",
    "    print(oi_pfad)\n",
    "\n",
    "#    wb = xw.Book(rf\"C:\\\\Detlef\\\\Tradematiker\\\\Research\\\\Optionen\\\\OI-Abfrage\\\\T_OI-Abfrage {tradingDates[0].strftime('%Y-%m-%d')} V9.00.xlsm\")\n"
   ]
  },
  {
   "cell_type": "code",
   "execution_count": null,
   "id": "d9188a98",
   "metadata": {},
   "outputs": [],
   "source": [
    "#Write data into Workbook \n",
    "Sheet1.range(\"A1:R250\").clear_contents()\n",
    "Sheet1.range(\"A1\").value =\"strike\"\n",
    "Sheet1.range(\"B1\").value = dt_string\n",
    "Sheet1.range(\"J1\").value =\"OpenInterest\"\n",
    "Sheet1.range('A2').options(index=False, header=False ).value = contractsPut_df[\"strike\"]\n",
    "Sheet1.range('J2').options(index=False, header=False ).value = contractsPut_df[\"openInterest\"]\n",
    "\n",
    "Sheet2.range(\"A1:R250\").clear_contents()\n",
    "Sheet2.range(\"A1\").value =\"strike\"\n",
    "Sheet2.range(\"B1\").value = dt_string\n",
    "Sheet2.range(\"J1\").value =\"OpenInterest\"\n",
    "Sheet2.range('A2').options(index=False, header=False ).value = contractsCall_df[\"strike\"]\n",
    "Sheet2.range('J2').options(index=False, header=False ).value = contractsCall_df[\"openInterest\"]\n",
    "#Write data into Workbook  P/C +1\n",
    "Sheet3.range(\"A1:R250\").clear_contents()\n",
    "Sheet3.range(\"A1\").value =\"strike\"\n",
    "Sheet3.range(\"B1\").value = dt_string\n",
    "Sheet3.range(\"J1\").value =\"OpenInterest\"\n",
    "Sheet3.range('A2').options(index=False, header=False ).value = contractsPut_N_df[\"strike\"]\n",
    "Sheet3.range('J2').options(index=False, header=False ).value = contractsPut_N_df[\"openInterest\"]\n",
    "\n",
    "Sheet4.range(\"A1:R250\").clear_contents()\n",
    "Sheet4.range(\"A1\").value =\"strike\"\n",
    "Sheet4.range(\"B1\").value = dt_string\n",
    "Sheet4.range(\"J1\").value =\"OpenInterest\"\n",
    "Sheet4.range('A2').options(index=False, header=False ).value = contractsCall_N_df[\"strike\"]\n",
    "Sheet4.range('J2').options(index=False, header=False ).value = contractsCall_N_df[\"openInterest\"]\n",
    "#Write data into Workbook \n",
    "Sheet5.range(\"A1:R250\").clear_contents()\n",
    "Sheet5.range(\"A1\").value =\"strike\"\n",
    "Sheet5.range(\"B1\").value = dt_string\n",
    "Sheet5.range(\"J1\").value =\"OpenInterest\"\n",
    "Sheet5.range('A2').options(index=False, header=False ).value = contractsPut_l_df[\"strike\"]\n",
    "Sheet5.range('J2').options(index=False, header=False ).value = contractsPut_l_df[\"openInterest\"]\n",
    "\n",
    "Sheet6.range(\"A1:R250\").clear_contents()\n",
    "Sheet6.range(\"A1\").value =\"strike\"\n",
    "Sheet6.range(\"B1\").value = dt_string\n",
    "Sheet6.range(\"J1\").value =\"OpenInterest\"\n",
    "Sheet6.range('A2').options(index=False, header=False ).value = contractsCall_l_df[\"strike\"]\n",
    "Sheet6.range('J2').options(index=False, header=False ).value = contractsCall_l_df[\"openInterest\"]\n",
    "\n",
    "\n"
   ]
  },
  {
   "cell_type": "code",
   "execution_count": null,
   "id": "e27fb98a",
   "metadata": {},
   "outputs": [],
   "source": [
    "wb.save()\n",
    "#wb.close()"
   ]
  },
  {
   "cell_type": "code",
   "execution_count": null,
   "id": "7e370732",
   "metadata": {},
   "outputs": [],
   "source": []
  }
 ],
 "metadata": {
  "kernelspec": {
   "display_name": "Python 3 (ipykernel)",
   "language": "python",
   "name": "python3"
  },
  "language_info": {
   "codemirror_mode": {
    "name": "ipython",
    "version": 3
   },
   "file_extension": ".py",
   "mimetype": "text/x-python",
   "name": "python",
   "nbconvert_exporter": "python",
   "pygments_lexer": "ipython3",
   "version": "3.9.12"
  }
 },
 "nbformat": 4,
 "nbformat_minor": 5
}
