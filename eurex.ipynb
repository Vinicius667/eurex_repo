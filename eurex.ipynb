{
 "cells": [
  {
   "cell_type": "code",
   "execution_count": 1,
   "metadata": {},
   "outputs": [],
   "source": [
    "from utils import *\n",
    "from variables import *\n",
    "from utils import parse_excel, read_pickle\n",
    "from glob import glob"
   ]
  },
  {
   "cell_type": "code",
   "execution_count": 2,
   "metadata": {},
   "outputs": [
    {
     "name": "stderr",
     "output_type": "stream",
     "text": [
      "c:\\Users\\Vinicius\\anaconda3\\envs\\eurex\\Lib\\site-packages\\openpyxl\\worksheet\\_reader.py:312: UserWarning: Unknown extension is not supported and will be removed\n",
      "  warn(msg)\n",
      "c:\\Users\\Vinicius\\anaconda3\\envs\\eurex\\Lib\\site-packages\\openpyxl\\worksheet\\_reader.py:312: UserWarning: Conditional Formatting extension is not supported and will be removed\n",
      "  warn(msg)\n"
     ]
    },
    {
     "name": "stdout",
     "output_type": "stream",
     "text": [
      "busdate_idx = 0   | productdate_idx = 0\n",
      "busdate_idx = 1   | productdate_idx = 0\n",
      "busdate_idx = 0   | productdate_idx = 1\n",
      "busdate_idx = 1   | productdate_idx = 1\n",
      "heute = 11/09/2023\n",
      "tage_bis_verfall = 4\n",
      "expiry = 2023-09-15 00:00:00\n",
      "expiry_1 = 2023-10-20 00:00:00\n",
      "stock_price = 15735.5\n",
      "ZentralKurs = 16000\n",
      "volatility = 0.1531\n",
      "InterestRate = 0.038\n",
      "Minkurs = 15000.0\n",
      "Maxkurs = 17000.0\n",
      "Schritte = 40\n",
      "volatility_Laufzeit = 60\n",
      "Tage = 4\n",
      "Tage_1 = 39\n",
      "PDF has been generated.\n",
      "Both files are the same.\n",
      "[]\n"
     ]
    }
   ],
   "source": [
    "dict_auswahl_prefix = {0 : \"\", 1 : \"STOXX_\"}\n",
    "\n",
    "\n",
    "list_files = glob(\"./excel_files/*.xlsm\")\n",
    "list_error_files = []\n",
    "\n",
    "for excel_path in list_files[-1:]:\n",
    "\n",
    "    if \"stoxx\" in excel_path.lower():\n",
    "        auswahl = 1\n",
    "    else:\n",
    "        auswahl = 0\n",
    "\n",
    "    auswahl, ZentralKurs, volatility, InterestRate, tage_bis_verfall, nbd_dict, dict_prod_bus, stock_price, expiry, expiry_1, heute, list_email_send_selection, future_date_col = parse_excel(auswahl, excel_path)\n",
    "    \n",
    "\n",
    "\n",
    "    Summery_df, HedgeBedarf_df, HedgeBedarf1_df, Ueberhaenge_df, delta= hedge(auswahl, ZentralKurs, volatility, InterestRate, tage_bis_verfall, dict_prod_bus, stock_price, expiry, expiry_1, heute)\n",
    "\n",
    "    summery_cols = ['Basis', 'Änderung', 'heute', 'last_day']\n",
    "    file_path = os.path.join(current_results_path, f\"{heute.strftime('%Y_%m_%d')}_{dict_index_stock[auswahl]}.pdf\")\n",
    "    generate_pdfs(auswahl, Summery_df, HedgeBedarf_df, HedgeBedarf1_df, stock_price, heute, nbd_dict, tage_bis_verfall, delta, expiry, expiry_1, file_path)\n",
    "    Summery_df = Summery_df[summery_cols]\n",
    "\n",
    "\n",
    "    HedgeBedarf_excel = pd.read_excel(excel_path, sheet_name = f\"{dict_auswahl_prefix[auswahl]}HedgeBedarf\",skiprows=3).rename(columns = {\"Unnamed: 0\" : \"Basis\", \"Unnamed: 2\" : \"HedgeSum\"})[['Basis', 'HedgeSum']]\n",
    "\n",
    "\n",
    "    HedgeBedarf1_excel = pd.read_excel(excel_path, sheet_name = f\"{dict_auswahl_prefix[auswahl]}HedgeBedarf+01\",skiprows=3).rename(columns = {\"Unnamed: 0\" : \"Basis\", \"Unnamed: 2\" : \"HedgeSum\"})[['Basis', 'HedgeSum']]\n",
    "\n",
    "\n",
    "    Summery_excel = pd.read_excel(excel_path, sheet_name = f\"{dict_auswahl_prefix[auswahl]}Summery\",skiprows=8).iloc[:,[0,1,2,3]]\n",
    "    Summery_excel.columns = summery_cols\n",
    "    Summery_excel = Summery_excel[pd.to_numeric(Summery_excel.Basis, errors= 'coerce').notna()]\n",
    "\n",
    "\n",
    "    compare1_df = HedgeBedarf_df[['Basis', 'HedgeSum']].merge(HedgeBedarf_excel, on = 'Basis',suffixes=('_py', '_excel'))\n",
    "    # Biggest difference between python and excel\n",
    "    (compare1_df.HedgeSum_py - compare1_df.HedgeSum_excel).abs().max()\n",
    "    compare1_df['dif'] = (compare1_df.HedgeSum_py - compare1_df.HedgeSum_excel).abs()\n",
    "    max_dif1  = compare1_df.dif.abs().max()\n",
    "\n",
    "    compare2_df = HedgeBedarf1_df[['Basis', 'HedgeSum']].merge(HedgeBedarf1_excel, on = 'Basis',suffixes=('_py', '_excel'))\n",
    "    # Biggest difference between python and excel\n",
    "    (compare2_df.HedgeSum_py - compare2_df.HedgeSum_excel).abs().max()\n",
    "    compare2_df['dif'] = (compare2_df.HedgeSum_py - compare2_df.HedgeSum_excel).abs()\n",
    "    max_dif2  = compare2_df.dif.abs().max()\n",
    "\n",
    "\n",
    "    compare3_df = Summery_excel.merge(Summery_df, on = 'Basis', suffixes = ('_excel', '_python'))\n",
    "\n",
    "    list_max = []\n",
    "    for col in Summery_df.columns[1:]:\n",
    "        list_max.append((compare3_df[f'{col}_excel'] - compare3_df[f'{col}_python']).abs().max())\n",
    "\n",
    "    max_dif3 = max(list_max)\n",
    "\n",
    "\n",
    "    if max(max_dif1, max_dif2, max_dif3) > 1e-6:\n",
    "        list_error_files.append(excel_path)\n",
    "        raise ValueError(\"Excel and python results are not the same\")\n",
    "    print(\"Both files are the same.\")\n",
    "print(list_error_files)"
   ]
  },
  {
   "cell_type": "code",
   "execution_count": 5,
   "metadata": {},
   "outputs": [
    {
     "ename": "FileNotFoundError",
     "evalue": "[Errno 2] No such file or directory: './Results/temp\\\\DAX.pickle'",
     "output_type": "error",
     "traceback": [
      "\u001b[1;31m---------------------------------------------------------------------------\u001b[0m",
      "\u001b[1;31mFileNotFoundError\u001b[0m                         Traceback (most recent call last)",
      "Cell \u001b[1;32mIn[5], line 2\u001b[0m\n\u001b[0;32m      1\u001b[0m auswahl \u001b[39m=\u001b[39m \u001b[39m0\u001b[39m\n\u001b[1;32m----> 2\u001b[0m result \u001b[39m=\u001b[39m read_pickle(os\u001b[39m.\u001b[39;49mpath\u001b[39m.\u001b[39;49mjoin(temp_results_path,\u001b[39mf\u001b[39;49m\u001b[39m'\u001b[39;49m\u001b[39m{\u001b[39;49;00mdict_index_stock[auswahl]\u001b[39m}\u001b[39;49;00m\u001b[39m.pickle\u001b[39;49m\u001b[39m'\u001b[39;49m))\n\u001b[0;32m      4\u001b[0m auswahl, ZentralKurs, volatility, InterestRate, tage_bis_verfall, nbd_dict, dict_prod_bus, stock_price, expiry, expiry_1, heute, list_email_send_selection, future_date_col \u001b[39m=\u001b[39m result\n\u001b[0;32m      6\u001b[0m Summery_df, HedgeBedarf_df, HedgeBedarf1_df, Ueberhaenge_df, delta\u001b[39m=\u001b[39m hedge(auswahl, ZentralKurs, volatility, InterestRate, tage_bis_verfall, dict_prod_bus, stock_price, expiry, expiry_1, heute)\n",
      "File \u001b[1;32mc:\\Users\\Vinicius\\Documents\\Eurex\\utils.py:69\u001b[0m, in \u001b[0;36mread_pickle\u001b[1;34m(path)\u001b[0m\n\u001b[0;32m     68\u001b[0m \u001b[39mdef\u001b[39;00m \u001b[39mread_pickle\u001b[39m(path):\n\u001b[1;32m---> 69\u001b[0m     \u001b[39mwith\u001b[39;00m \u001b[39mopen\u001b[39;49m(path, \u001b[39m'\u001b[39;49m\u001b[39mrb\u001b[39;49m\u001b[39m'\u001b[39;49m) \u001b[39mas\u001b[39;00m handle:\n\u001b[0;32m     70\u001b[0m         variable \u001b[39m=\u001b[39m pickle\u001b[39m.\u001b[39mload(handle)\n\u001b[0;32m     71\u001b[0m         \u001b[39mreturn\u001b[39;00m variable\n",
      "\u001b[1;31mFileNotFoundError\u001b[0m: [Errno 2] No such file or directory: './Results/temp\\\\DAX.pickle'"
     ]
    }
   ],
   "source": [
    "auswahl = 0\n",
    "result = read_pickle(os.path.join(temp_results_path,f'{dict_index_stock[auswahl]}.pickle'))\n",
    "\n",
    "auswahl, ZentralKurs, volatility, InterestRate, tage_bis_verfall, nbd_dict, dict_prod_bus, stock_price, expiry, expiry_1, heute, list_email_send_selection, future_date_col = result\n",
    "\n",
    "Summery_df, HedgeBedarf_df, HedgeBedarf1_df, Ueberhaenge_df, delta= hedge(auswahl, ZentralKurs, volatility, InterestRate, tage_bis_verfall, dict_prod_bus, stock_price, expiry, expiry_1, heute)\n",
    "\n",
    "file_path = os.path.join(current_results_path, f\"{heute.strftime('%Y_%m_%d')}_{dict_index_stock[auswahl]}.pdf\")\n",
    "\n",
    "generate_pdfs(auswahl, Summery_df, HedgeBedarf_df, HedgeBedarf1_df, stock_price, heute, nbd_dict, tage_bis_verfall, delta, expiry, expiry_1, file_path)"
   ]
  }
 ],
 "metadata": {
  "kernelspec": {
   "display_name": "eurex",
   "language": "python",
   "name": "python3"
  },
  "language_info": {
   "codemirror_mode": {
    "name": "ipython",
    "version": 3
   },
   "file_extension": ".py",
   "mimetype": "text/x-python",
   "name": "python",
   "nbconvert_exporter": "python",
   "pygments_lexer": "ipython3",
   "version": "3.11.4"
  },
  "vscode": {
   "interpreter": {
    "hash": "57e2b15c4caf69ea5b54adbe49496b75ff27d72dd878598ef18ae1487f34bdf2"
   }
  }
 },
 "nbformat": 4,
 "nbformat_minor": 2
}
