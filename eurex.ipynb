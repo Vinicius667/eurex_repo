{
 "cells": [
  {
   "cell_type": "code",
   "execution_count": 8,
   "metadata": {},
   "outputs": [],
   "source": [
    "from utils import *\n",
    "from variables import *\n",
    "from glob import glob\n",
    "from bs4 import BeautifulSoup\n",
    "\n",
    "summery_cols = ['Basis', 'Änderung', 'heute', 'last_day']\n",
    "\n",
    "# Sufixes used to read the excel files\n",
    "dict_auswahl_sufix = {0 : \"\", 1 : \"STOXX_\"}"
   ]
  },
  {
   "cell_type": "code",
   "execution_count": null,
   "metadata": {},
   "outputs": [],
   "source": [
    "\"\"\"\n",
    "The following code is used to read the pickle files and generate the pdf files. No test is performed.\n",
    "\"\"\"\n",
    "\n",
    "auswahl = 0\n",
    "result = read_pickle(os.path.join(temp_results_path,f'{dict_index_stock[auswahl]}.pickle'))\n",
    "\n",
    "auswahl, ZentralKurs, volatility, InterestRate, tage_bis_verfall, nbd_dict, dict_prod_bus, stock_price, expiry, expiry_1, heute, list_email_send_selection, future_date_col = result\n",
    "\n",
    "Summery_df, HedgeBedarf_df, HedgeBedarf1_df, Ueberhaenge_df, delta= hedge(auswahl, ZentralKurs, volatility, InterestRate, tage_bis_verfall, dict_prod_bus, stock_price, expiry, expiry_1, heute)\n",
    "\n"
   ]
  },
  {
   "cell_type": "code",
   "execution_count": 83,
   "metadata": {},
   "outputs": [
    {
     "name": "stdout",
     "output_type": "stream",
     "text": [
      "1050 1050\n",
      "1050 1050\n",
      "1050 1050\n"
     ]
    },
    {
     "ename": "RuntimeError",
     "evalue": "No active exception to reraise",
     "output_type": "error",
     "traceback": [
      "\u001b[1;31m---------------------------------------------------------------------------\u001b[0m",
      "\u001b[1;31mRuntimeError\u001b[0m                              Traceback (most recent call last)",
      "Cell \u001b[1;32mIn[83], line 418\u001b[0m\n\u001b[0;32m    414\u001b[0m         converter\u001b[39m.\u001b[39mconvert(\u001b[39m\"\u001b[39m\u001b[39mfile://\u001b[39m\u001b[39m\"\u001b[39m \u001b[39m+\u001b[39m os\u001b[39m.\u001b[39mpath\u001b[39m.\u001b[39mjoin(os\u001b[39m.\u001b[39mgetcwd(),result_html), file_path)\n\u001b[0;32m    416\u001b[0m         \u001b[39mprint\u001b[39m(\u001b[39m\"\u001b[39m\u001b[39mPDF has been generated.\u001b[39m\u001b[39m\"\u001b[39m)\n\u001b[1;32m--> 418\u001b[0m generate_pdfs(auswahl, Summery_df, HedgeBedarf_df, HedgeBedarf1_df, stock_price, heute, nbd_dict, tage_bis_verfall, delta, expiry, expiry_1)\n",
      "Cell \u001b[1;32mIn[83], line 410\u001b[0m, in \u001b[0;36mgenerate_pdfs\u001b[1;34m(auswahl, Summery_df, HedgeBedarf_df, HedgeBedarf1_df, stock_price, heute, nbd_dict, tage_bis_verfall, delta, expiry, expiry_1)\u001b[0m\n\u001b[0;32m    407\u001b[0m \u001b[39mwith\u001b[39;00m \u001b[39mopen\u001b[39m(result_html,\u001b[39m'\u001b[39m\u001b[39mw\u001b[39m\u001b[39m'\u001b[39m) \u001b[39mas\u001b[39;00m file:\n\u001b[0;32m    408\u001b[0m     file\u001b[39m.\u001b[39mwrite(template)\n\u001b[1;32m--> 410\u001b[0m \u001b[39mraise\u001b[39;00m\n\u001b[0;32m    411\u001b[0m pdf_suffix \u001b[39m=\u001b[39m {\u001b[39m\"\u001b[39m\u001b[39mcomplete\u001b[39m\u001b[39m\"\u001b[39m:\u001b[39m\"\u001b[39m\u001b[39m\"\u001b[39m, \u001b[39m\"\u001b[39m\u001b[39mbasic\u001b[39m\u001b[39m\"\u001b[39m:\u001b[39m\"\u001b[39m\u001b[39m_basic\u001b[39m\u001b[39m\"\u001b[39m}[pdf_format]\n\u001b[0;32m    412\u001b[0m file_path \u001b[39m=\u001b[39m os\u001b[39m.\u001b[39mpath\u001b[39m.\u001b[39mjoin(current_results_path, \u001b[39mf\u001b[39m\u001b[39m\"\u001b[39m\u001b[39m{\u001b[39;00mdict_index_stock[auswahl]\u001b[39m}\u001b[39;00m\u001b[39m_\u001b[39m\u001b[39m{\u001b[39;00mheute\u001b[39m.\u001b[39mstrftime(\u001b[39m'\u001b[39m\u001b[39m%d\u001b[39;00m\u001b[39m_\u001b[39m\u001b[39m%\u001b[39m\u001b[39mm_\u001b[39m\u001b[39m%\u001b[39m\u001b[39mY\u001b[39m\u001b[39m'\u001b[39m)\u001b[39m}\u001b[39;00m\u001b[39m{\u001b[39;00mpdf_suffix\u001b[39m}\u001b[39;00m\u001b[39m.pdf\u001b[39m\u001b[39m\"\u001b[39m)\n",
      "\u001b[1;31mRuntimeError\u001b[0m: No active exception to reraise"
     ]
    }
   ],
   "source": [
    "\n",
    "\n",
    "generate_pdfs(auswahl, Summery_df, HedgeBedarf_df, HedgeBedarf1_df, stock_price, heute, nbd_dict, tage_bis_verfall, delta, expiry, expiry_1)"
   ]
  },
  {
   "cell_type": "code",
   "execution_count": 55,
   "metadata": {},
   "outputs": [
    {
     "ename": "NameError",
     "evalue": "name 'header_height' is not defined",
     "output_type": "error",
     "traceback": [
      "\u001b[1;31m---------------------------------------------------------------------------\u001b[0m",
      "\u001b[1;31mNameError\u001b[0m                                 Traceback (most recent call last)",
      "Cell \u001b[1;32mIn[55], line 1\u001b[0m\n\u001b[1;32m----> 1\u001b[0m header_height\n",
      "\u001b[1;31mNameError\u001b[0m: name 'header_height' is not defined"
     ]
    }
   ],
   "source": [
    "header_height"
   ]
  },
  {
   "cell_type": "code",
   "execution_count": 24,
   "metadata": {},
   "outputs": [
    {
     "name": "stdout",
     "output_type": "stream",
     "text": [
      "Minkurs = 14000.0\n",
      "Maxkurs = 16000.0\n",
      "Schritte = 40\n",
      "volatility_Laufzeit = 60\n",
      "Tage = 16\n",
      "Tage_1 = 43\n"
     ]
    }
   ],
   "source": []
  },
  {
   "cell_type": "code",
   "execution_count": null,
   "metadata": {},
   "outputs": [],
   "source": [
    "\"\"\"\n",
    "This python script is used to compare the results of the python script with the excel files.\n",
    "It also generates the pdf files for the results of the python script.\n",
    "The function parse_excel is used to parse the excel files. Thefore the function parse_eurex is not tested by this script.\n",
    "Requirements:\n",
    "    - The excel files use version 9.00 format.\n",
    "\"\"\"\n",
    "\n",
    "\n",
    "\n",
    "# List of files to be read\n",
    "list_files = glob(\"./excel_files/*.xlsm\")\n",
    "\n",
    "# List of files where the results of the python are not equal to the excel files\n",
    "list_error_files = []\n",
    "\n",
    "for excel_path in list_files:#['./excel_files\\\\T_OI-Abfrage 2023-10-27 V9.00.xlsm']: \n",
    "    if \"~\" in excel_path:\n",
    "        continue\n",
    "    is_diff = False\n",
    "    print(f\"excel_path = {excel_path}\")\n",
    "\n",
    "    # Select the option based on the name of the excel file\n",
    "    if \"stoxx\" in excel_path.lower():\n",
    "        auswahl = 1\n",
    "    else:\n",
    "        auswahl = 0\n",
    "\n",
    "    # Use the function parse_excel to parse the excel file\n",
    "    auswahl, ZentralKurs, volatility, InterestRate, tage_bis_verfall, nbd_dict, dict_prod_bus, stock_price, expiry, expiry_1, heute, list_email_send_selection, future_date_col = parse_excel(auswahl, excel_path)\n",
    "\n",
    "\n",
    "    # Read the results of the python script\n",
    "    Summery_df, HedgeBedarf_df, HedgeBedarf1_df, Ueberhaenge_df, delta= hedge(auswahl, ZentralKurs, volatility, InterestRate, tage_bis_verfall, dict_prod_bus, stock_price, expiry, expiry_1, heute)\n",
    "\n",
    "    # Generate the pdf files\n",
    "    #generate_pdfs(auswahl, Summery_df, HedgeBedarf_df, HedgeBedarf1_df, stock_price, heute, nbd_dict, tage_bis_verfall, delta, expiry, expiry_1)\n",
    "\n",
    "    # Select the columns to be compared\n",
    "    Summery_df = Summery_df[summery_cols]\n",
    "\n",
    "    ################################## Read excel files ##################################\n",
    "    HedgeBedarf_excel = pd.read_excel(excel_path, sheet_name = f\"{dict_auswahl_sufix[auswahl]}HedgeBedarf\",skiprows=3).rename(columns = {\"Unnamed: 0\" : \"Basis\", \"Unnamed: 2\" : \"HedgeSum\"})\n",
    "    del HedgeBedarf_excel['Unnamed: 1']\n",
    "    \n",
    "    HedgeBedarf1_excel = pd.read_excel(excel_path, sheet_name = f\"{dict_auswahl_sufix[auswahl]}HedgeBedarf+01\",skiprows=3).rename(columns = {\"Unnamed: 0\" : \"Basis\", \"Unnamed: 2\" : \"HedgeSum\"})[['Basis', 'HedgeSum']]\n",
    "\n",
    "    Summery_excel = pd.read_excel(excel_path, sheet_name = f\"{dict_auswahl_sufix[auswahl]}Summery\",skiprows=8).iloc[:,[0,1,2,3]]\n",
    "    Summery_excel.columns = summery_cols\n",
    "    Summery_excel = Summery_excel[pd.to_numeric(Summery_excel.Basis, errors= 'coerce').notna()]\n",
    "    ##########################################################################################\n",
    "\n",
    "    ############ Compare the results of the python script with the excel files ###############\n",
    "    compare1_df = HedgeBedarf_df[['Basis', 'HedgeSum']].merge(HedgeBedarf_excel[['Basis', 'HedgeSum']], on = 'Basis',suffixes=('_py', '_excel'))\n",
    "    # Biggest difference between python and excel\n",
    "    compare1_df['dif'] = (compare1_df.HedgeSum_py / (compare1_df.HedgeSum_excel+ 1e-6)).abs()\n",
    "    max_dif1  = 1 - compare1_df.dif.abs().max()\n",
    "\n",
    "    compare2_df = HedgeBedarf1_df[['Basis', 'HedgeSum']].merge(HedgeBedarf1_excel, on = 'Basis',suffixes=('_py', '_excel'))\n",
    "    # Biggest difference between python and excel\n",
    "    (compare2_df.HedgeSum_py - compare2_df.HedgeSum_excel).abs().max()\n",
    "    compare2_df['dif'] = (compare2_df.HedgeSum_py / (compare2_df.HedgeSum_excel+ 1e-6)).abs()\n",
    "    max_dif2  = 1 - compare2_df.dif.abs().max()\n",
    "\n",
    "    compare3_df = Summery_excel.merge(Summery_df, on = 'Basis', suffixes = ('_excel', '_python'))\n",
    "    ##########################################################################################\n",
    "\n",
    "    list_max = []\n",
    "    for col in Summery_df.columns[1:]:\n",
    "        list_max.append((compare3_df[f'{col}_excel'] / (compare3_df[f'{col}_python']+ 1e-6) ).abs().max())\n",
    "\n",
    "    max_dif3 = 1 - max(list_max)\n",
    "\n",
    "    diffs = np.abs(np.array([max_dif1, max_dif2, max_dif3])) \n",
    "\n",
    "    if diffs.max() > 0.05:\n",
    "        list_error_files.append(excel_path)\n",
    "        print(\"Excel and python results are not the same\")\n",
    "        is_diff = True\n",
    "    \n",
    "    if not is_diff:\n",
    "        print(\"Both files are the same. \", end = \"\")\n",
    "    values_compared = min(compare2_df.shape[0],compare2_df.shape[0],compare2_df.shape[0])\n",
    "    print(f\"{values_compared} values compared\")\n",
    "\n",
    "\n",
    "print(list_error_files)\n",
    "\n"
   ]
  }
 ],
 "metadata": {
  "kernelspec": {
   "display_name": "eurex",
   "language": "python",
   "name": "python3"
  },
  "language_info": {
   "codemirror_mode": {
    "name": "ipython",
    "version": 3
   },
   "file_extension": ".py",
   "mimetype": "text/x-python",
   "name": "python",
   "nbconvert_exporter": "python",
   "pygments_lexer": "ipython3",
   "version": "3.11.4 | packaged by Anaconda, Inc. | (main, Jul  5 2023, 13:47:18) [MSC v.1916 64 bit (AMD64)]"
  },
  "vscode": {
   "interpreter": {
    "hash": "57e2b15c4caf69ea5b54adbe49496b75ff27d72dd878598ef18ae1487f34bdf2"
   }
  }
 },
 "nbformat": 4,
 "nbformat_minor": 2
}
