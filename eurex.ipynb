{
 "cells": [
  {
   "cell_type": "code",
   "execution_count": 1,
   "metadata": {},
   "outputs": [],
   "source": [
    "from utils import *\n",
    "from variables import *\n",
    "from datetime import datetime, timedelta\n",
    "import requests\n",
    "import re\n",
    "from scipy.stats import norm\n",
    "from plotly.subplots import make_subplots\n",
    "import plotly.graph_objects as go\n",
    "from pyhtml2pdf import  converter\n",
    "import shutil\n",
    "from plotly.colors import n_colors\n",
    "from typing import Union, List, Dict\n",
    "from bs4 import BeautifulSoup\n",
    "import traceback\n",
    "from utils import parse_excel\n",
    "from generate_files import generate_pdfs, generate_parquets\n",
    "from openpyxl.reader.excel import load_workbook\n",
    "from openpyxl.utils.cell import coordinate_to_tuple"
   ]
  },
  {
   "cell_type": "code",
   "execution_count": null,
   "metadata": {},
   "outputs": [],
   "source": [
    "def get_contracts_excel(auswahl : int, excel_path : str):\n",
    "\n",
    "    dict_auswahl_prefix = {\n",
    "        0 : \"\",\n",
    "        1 : \"STOXX_\"\n",
    "    }\n",
    "\n",
    "    wb = load_workbook(excel_path, data_only=True, keep_vba=True)\n",
    "    Ueberhaenge_sheet = wb['Ueberhaenge']\n",
    "    heute = Ueberhaenge_sheet.cell(*coordinate_to_tuple(\"G5\")).value\n",
    "    expiry = Ueberhaenge_sheet.cell(*coordinate_to_tuple(\"G3\")).value\n",
    "    expiry_1 = Ueberhaenge_sheet.cell(*coordinate_to_tuple(\"R6\")).value\n",
    "    stock_price = Ueberhaenge_sheet.cell(*coordinate_to_tuple(\"X4\")).value\n",
    "    InterestRate = Ueberhaenge_sheet.cell(*coordinate_to_tuple(\"N3\")).value\n",
    "    ZentralKurs =  Ueberhaenge_sheet.cell(*coordinate_to_tuple(\"C3\")).value  \n",
    "    volatility = Ueberhaenge_sheet.cell(*coordinate_to_tuple(\"N4\")).value\n",
    "\n",
    "    Summery_sheet = wb[f'{dict_auswahl_prefix[auswahl]}Summery']\n",
    "    nbd_heute = Summery_sheet.cell(*coordinate_to_tuple(\"C9\")).value\n",
    "   \n",
    "    nbd_last = Summery_sheet.cell(*coordinate_to_tuple(\"C9\")).value\n",
    "    nbd_last = next_business_day(heute)\n",
    "    nbd_dict = {'heute' : nbd_heute, 'last' : nbd_last}\n",
    "\n",
    "\n",
    "    tage_bis_verfall = (expiry - heute).days #+ 1\n",
    "\n",
    "    print(f\"tage_bis_verfall = {tage_bis_verfall}\")\n",
    "    print(f\"stock_price = {stock_price}\")\n",
    "    print(f\"InterestRate = {InterestRate}\")\n",
    "    print(f\"volatility = {volatility}\")\n",
    "    print(f\"InterestRate = {InterestRate}\")\n",
    "\n",
    "\n",
    "    dict_prod_bus = {}\n",
    "    for productdate_idx in [0,1]:\n",
    "        dict_prod_bus[productdate_idx] = {}\n",
    "        for busdate_idx in [0,1]:\n",
    "            print(f\"busdate_idx = {busdate_idx}   | productdate_idx = {productdate_idx}\")\n",
    "            if (busdate_idx == 1) and (productdate_idx == 1):\n",
    "                # No need to request data for this case so we skip this iteration\n",
    "                break\n",
    "\n",
    "            if (busdate_idx == 0) and (productdate_idx == 0):\n",
    "                contractsCall_aux_df =  pd.read_excel(excel_path, sheet_name = f\"{dict_auswahl_prefix[auswahl]}Call_Front\")\n",
    "                contractsPut_aux_df =  pd.read_excel(excel_path, sheet_name = f\"{dict_auswahl_prefix[auswahl]}Put_Front\")\n",
    "\n",
    "            if (busdate_idx == 1) and (productdate_idx == 0):\n",
    "                contractsCall_aux_df= pd.read_excel(excel_path, sheet_name = f\"{dict_auswahl_prefix[auswahl]}CallFront-1\")\n",
    "                contractsPut_aux_df = pd.read_excel(excel_path, sheet_name = f\"{dict_auswahl_prefix[auswahl]}PutFront-1\")\n",
    "\n",
    "            if (busdate_idx == 0) and (productdate_idx == 1):\n",
    "                contractsCall_aux_df = pd.read_excel(excel_path, sheet_name = f\"{dict_auswahl_prefix[auswahl]}Put+01\")\n",
    "                contractsPut_aux_df= pd.read_excel(excel_path, sheet_name = f\"{dict_auswahl_prefix[auswahl]}Call+01\")\n",
    "\n",
    "\n",
    "            aux_df = contractsCall_aux_df[['strike','openInterest']].merge(\n",
    "                contractsPut_aux_df[['strike','openInterest']],\n",
    "                on = \"strike\",\n",
    "                how=\"left\",\n",
    "                suffixes=('_CF', '_PF')\n",
    "            )\n",
    "            dict_prod_bus[productdate_idx][busdate_idx] = aux_df\n",
    "    return auswahl, heute, expiry, expiry_1, stock_price, InterestRate, volatility, ZentralKurs, tage_bis_verfall, nbd_dict, dict_prod_bus"
   ]
  },
  {
   "cell_type": "code",
   "execution_count": 8,
   "metadata": {},
   "outputs": [
    {
     "name": "stdout",
     "output_type": "stream",
     "text": [
      "heute = 13/09/2023\n",
      "################## Obtaining overview ##################\n",
      "DAX\n",
      "Getting data from EUREX...\n",
      "try = 0\n",
      "################## Obtaining contracts ##################\n",
      "busdate_idx = 0   | productdate_idx = 0 | try = 0\n",
      "busdate_idx = 1   | productdate_idx = 0 | try = 0\n",
      "busdate_idx = 0   | productdate_idx = 1 | try = 0\n",
      "busdate_idx = 0   | productdate_idx = 1 | try = 1\n",
      "busdate_idx = 1   | productdate_idx = 1 | try = 0\n",
      "tage_bis_verfall = 2\n",
      "stock_price = 15653.5\n",
      "Minkurs = 14500.0\n",
      "Maxkurs = 16500.0\n",
      "Schritte = 40\n",
      "ZentralKurs = 15500.0\n",
      "volatility_Laufzeit = 60\n",
      "Euribor 3M in 9/12/2023 is 3.824 %\n",
      "vdax-new-2m = 15.49 PTS\n",
      "volatility = 0.1549\n",
      "InterestRate = 0.038239999999999996\n",
      "Excel files have been exported.\n"
     ]
    }
   ],
   "source": [
    "auswahl, heute, expiry, expiry_1, stock_price, InterestRate, volatility, ZentralKurs, tage_bis_verfall, nbd_dict, dict_prod_bus, list_email_send_selection, Summery_df, HedgeBedarf_df, HedgeBedarf1_df, delta, future_date_col = parse_eurex(0)"
   ]
  },
  {
   "cell_type": "code",
   "execution_count": 2,
   "metadata": {},
   "outputs": [
    {
     "name": "stderr",
     "output_type": "stream",
     "text": [
      "c:\\Users\\Vinicius\\anaconda3\\envs\\eurex\\Lib\\site-packages\\openpyxl\\worksheet\\_reader.py:312: UserWarning: Unknown extension is not supported and will be removed\n",
      "  warn(msg)\n",
      "c:\\Users\\Vinicius\\anaconda3\\envs\\eurex\\Lib\\site-packages\\openpyxl\\worksheet\\_reader.py:312: UserWarning: Conditional Formatting extension is not supported and will be removed\n",
      "  warn(msg)\n"
     ]
    },
    {
     "name": "stdout",
     "output_type": "stream",
     "text": [
      "tage_bis_verfall = 18\n",
      "stock_price = 15683\n",
      "InterestRate = 0.03784\n",
      "volatility = 0.17079999999999998\n",
      "InterestRate = 0.03784\n",
      "busdate_idx = 0   | productdate_idx = 0\n",
      "busdate_idx = 1   | productdate_idx = 0\n",
      "busdate_idx = 0   | productdate_idx = 1\n",
      "busdate_idx = 1   | productdate_idx = 1\n"
     ]
    }
   ],
   "source": [
    "auswahl, heute, expiry, expiry_1, stock_price, InterestRate, volatility, ZentralKurs, tage_bis_verfall, nbd_dict, dict_prod_bus = parse_excel(0, \"./excel_files/EUREX 2023-08-28.xlsm\")"
   ]
  },
  {
   "cell_type": "code",
   "execution_count": 12,
   "metadata": {},
   "outputs": [
    {
     "name": "stdout",
     "output_type": "stream",
     "text": [
      "heute = 2023-09-11 00:00:00\n",
      "stock_price = 4241.34\n",
      "Minkurs = 3950.0\n",
      "Maxkurs = 4650.0\n",
      "Schritte = 28\n",
      "ZentralKurs = 4300\n",
      "volatility_Laufzeit = 365\n"
     ]
    }
   ],
   "source": [
    "print(f\"heute = {heute}\")\n",
    "# Create results folder in case they still were not created\n",
    "list_folder_results =  [current_results_path, old_results_path, temp_results_path]\n",
    "for folder in list_folder_results:\n",
    "    create_folder(folder)\n",
    "\n",
    "if auswahl == 0: # DAX\n",
    "    Spannweite = 2000\n",
    "    Schritt = 50\n",
    "    volatility_Laufzeit = 60\n",
    "    KontraktWert = 5\n",
    "\n",
    "else: # STOXX\n",
    "    Spannweite = 700\n",
    "    Schritt = 25\n",
    "    volatility_Laufzeit = 365\n",
    "    KontraktWert = 1\n",
    "\n",
    "span = (Spannweite/4)\n",
    "\n",
    "Minkurs = ZentralKurs - (Spannweite/ 2)\n",
    "\n",
    "Maxkurs = Minkurs + Spannweite\n",
    "Schritte = int(Spannweite / Schritt)\n",
    "\n",
    "DetailMin = round(stock_price - (Spannweite)/4)\n",
    "DetailMax = DetailMin + (Spannweite/2)\n",
    "\n",
    "\n",
    "if tage_bis_verfall >= 1:\n",
    "    delta = 0.5\n",
    "else:\n",
    "    delta = 1\n",
    "\n",
    "print(f\"stock_price = {stock_price}\")\n",
    "print(f\"Minkurs = {Minkurs}\")\n",
    "print(f\"Maxkurs = {Maxkurs}\")\n",
    "print(f\"Schritte = {Schritte}\")\n",
    "print(f\"ZentralKurs = {ZentralKurs}\")\n",
    "print(f\"volatility_Laufzeit = {volatility_Laufzeit}\")\n",
    "\n",
    "\n",
    "\n",
    "\n",
    "# Second stage\n",
    "# Create Basis column that will be used for multiple tables\n",
    "Basis = pd.Series((Minkurs + np.arange(int(Schritte) +1)* Schritt)[::-1])\n",
    "\n",
    "# Transform series into dataframe to make dataframe creation easier \n",
    "Basis_df = Basis.reset_index().rename(columns={0:\"Basis\"})[[\"Basis\"]]\n",
    "\n",
    "\n",
    "# Ueberhaenge_df, Summery_df are created from a copy of the same Dataframe\n",
    "# so they have the same index. It means they could be in one  Dataframe but\n",
    "#  I decided to keep them separated as they were in the VBA code.\n",
    "\n",
    "Ueberhaenge_df = Basis_df.copy()\n",
    "Summery_df = Basis_df.copy()\n",
    "\n",
    "for productdate_idx in [0,1]:\n",
    "    for busdate_idx in [0,1]:\n",
    "\n",
    "        if (busdate_idx == 1) and (productdate_idx == 1):\n",
    "            continue\n",
    "\n",
    "        # Create dataframe with the just requested data\n",
    "        aux_df = Basis_df.copy()\n",
    "\n",
    "        aux_df = aux_df.merge(\n",
    "            dict_prod_bus[productdate_idx][busdate_idx],\n",
    "            left_on = \"Basis\",\n",
    "            right_on = \"strike\",\n",
    "            how= \"left\"\n",
    "        )\n",
    "\n",
    "        if productdate_idx == 0:\n",
    "            Ueberhaenge_df[busdate_idx] = aux_df.openInterest_PF - aux_df.openInterest_CF\n",
    "\n",
    "            if busdate_idx == 0:\n",
    "                Summery_df[\"openInterest_PF\"] = aux_df[\"openInterest_PF\"]\n",
    "                Summery_df[\"openInterest_CF\"] = aux_df[\"openInterest_CF\"]\n",
    "        \n",
    "        elif productdate_idx == 1:\n",
    "            if busdate_idx == 0:\n",
    "                Ueberhaenge_df[\"nextContract\"] = aux_df.openInterest_PF - aux_df.openInterest_CF\n",
    "                Summery_df[\"nextContract\"] = Ueberhaenge_df[\"nextContract\"]\n",
    "\n",
    "\n",
    "Ueberhaenge_df.rename(columns = {0 : \"Front\"},inplace=True)\n",
    "Ueberhaenge_df.rename(columns = {1 : \"Last\"},inplace=True)\n",
    "\n",
    "\n",
    "Summery_df[\"heute\"] = Ueberhaenge_df[\"Front\"] * (1 / KontraktWert) * delta\n",
    "Summery_df[\"last_day\"] = Ueberhaenge_df[\"Last\"] * (1 / KontraktWert) * delta\n",
    "\n",
    "Ueberhaenge_df[\"Summe\"] = Ueberhaenge_df[[\"Front\", \"nextContract\"]].sum(axis=1)\n",
    "Ueberhaenge_df = Ueberhaenge_df[['Basis', 'Summe',\"Last\",'Front', \"nextContract\"]]\n",
    "\n",
    "\n",
    "Summery_df[\"Änderung\"] = Summery_df.heute - Summery_df.last_day\n",
    "\n",
    "if (delta == 1):\n",
    "    Summery_df['nextContract'] =  Summery_df['nextContract'] / 2\n",
    "\n",
    "SummeryDetail_df = Summery_df[(Summery_df.Basis >= DetailMin) & (Summery_df.Basis < (DetailMax + Schritt))]\n",
    "\n",
    "# Third stage\n",
    "SchrittWeite = 10"
   ]
  },
  {
   "cell_type": "code",
   "execution_count": 13,
   "metadata": {},
   "outputs": [],
   "source": [
    "Tage = tage_bis_verfall\n",
    "if Tage == 0:\n",
    "    Tage = 0.5\n",
    "\n",
    "Tage_1 = (expiry_1 - heute).days +1\n",
    "Kurs_count = int(Spannweite/SchrittWeite)+1 \n",
    "HedgeBedarf_kurs=  pd.DataFrame(Maxkurs - np.arange(Kurs_count)* SchrittWeite,columns= [\"Basis\"])\n",
    "\n",
    "\n",
    "Hedge_dimensions = Kurs_count,int(Schritte+1)\n",
    "HedgeBedarf_values = np.zeros(Hedge_dimensions)\n",
    "HedgeBedarf1_values = np.zeros(Hedge_dimensions)\n",
    "\n",
    "\n",
    "for k in range(Hedge_dimensions[1]):\n",
    "    Basis_value = Basis[k]\n",
    "    Kontrakte = Ueberhaenge_df.loc[k,\"Front\"]\n",
    "    Kontrakte_1 = Ueberhaenge_df.loc[k,\"nextContract\"]\n",
    "    for i in range(Hedge_dimensions[0]):\n",
    "        Kurs = Maxkurs - i * SchrittWeite\n",
    "        #print(Kurs)\n",
    "        # In python np.log = natural log\n",
    "        h1 = np.log(Kurs / Basis_value)\n",
    "        if auswahl == 0:\n",
    "            sigma = volatility * ((Tage / volatility_Laufzeit) ** 0.5)\n",
    "        else:\n",
    "            sigma = volatility\n",
    "\n",
    "        sigma_1 = volatility * ((Tage_1 / volatility_Laufzeit) ** 0.5)\n",
    "        h2 = InterestRate + sigma * sigma / 2\n",
    "        h2_1 = InterestRate + sigma_1 * sigma_1 / 2\n",
    "        d1 = (h1 + (h2 * (Tage / 365))) / (sigma * ((Tage / 365) ** 0.5))\n",
    "        d1_1 = (h1 + (h2_1 * (Tage_1 / 365))) / (sigma_1 * ((Tage_1 / 365) ** 0.5))\n",
    "        Phi = norm.pdf(d1, 0, 1)               \n",
    "        Phi_1 = norm.pdf(d1_1 + 0.01, 0, 1)\n",
    "        Gamma = Phi / (Kurs * (sigma * (Tage / 365) ** 0.5))\n",
    "        Gamma_1 = Phi_1 / (Kurs * (sigma_1 * (Tage_1 / 365) ** 0.5))\n",
    "        \n",
    "        HedgeBedarf_values[i,k] = Gamma * Kontrakte / KontraktWert\n",
    "        HedgeBedarf1_values[i,k] = Gamma_1 * Kontrakte_1 / KontraktWert\n",
    "\n",
    "\n",
    "HedgeSum = HedgeBedarf_values.sum(axis=1)/2\n",
    "HedgeSum_1 = HedgeBedarf1_values.sum(axis=1)/2\n",
    "\n",
    "HedgeBedarf_df = pd.DataFrame(data =HedgeBedarf_values, columns= Basis )\n",
    "HedgeSum_df = pd.DataFrame(HedgeSum,columns=[\"HedgeSum\"])\n",
    "HedgeBedarf_df = pd.concat([HedgeBedarf_kurs,HedgeSum_df,HedgeBedarf_df], axis=1)\n",
    "\n",
    "HedgeBedarf1_df = pd.DataFrame(data =HedgeBedarf1_values, columns= Basis)\n",
    "HedgeSum1_df = pd.DataFrame(HedgeSum_1,columns=[\"HedgeSum\"])\n",
    "HedgeBedarf1_df = pd.concat([HedgeBedarf_kurs,HedgeSum1_df,HedgeBedarf1_df], axis=1)\n",
    "\n"
   ]
  },
  {
   "cell_type": "code",
   "execution_count": 14,
   "metadata": {},
   "outputs": [
    {
     "data": {
      "text/html": [
       "<div>\n",
       "<style scoped>\n",
       "    .dataframe tbody tr th:only-of-type {\n",
       "        vertical-align: middle;\n",
       "    }\n",
       "\n",
       "    .dataframe tbody tr th {\n",
       "        vertical-align: top;\n",
       "    }\n",
       "\n",
       "    .dataframe thead th {\n",
       "        text-align: right;\n",
       "    }\n",
       "</style>\n",
       "<table border=\"1\" class=\"dataframe\">\n",
       "  <thead>\n",
       "    <tr style=\"text-align: right;\">\n",
       "      <th></th>\n",
       "      <th>Basis</th>\n",
       "      <th>HedgeSum</th>\n",
       "    </tr>\n",
       "  </thead>\n",
       "  <tbody>\n",
       "    <tr>\n",
       "      <th>0</th>\n",
       "      <td>4650</td>\n",
       "      <td>-860.492729</td>\n",
       "    </tr>\n",
       "    <tr>\n",
       "      <th>1</th>\n",
       "      <td>4640</td>\n",
       "      <td>-925.722654</td>\n",
       "    </tr>\n",
       "    <tr>\n",
       "      <th>2</th>\n",
       "      <td>4630</td>\n",
       "      <td>-986.574975</td>\n",
       "    </tr>\n",
       "    <tr>\n",
       "      <th>3</th>\n",
       "      <td>4620</td>\n",
       "      <td>-1042.048037</td>\n",
       "    </tr>\n",
       "    <tr>\n",
       "      <th>4</th>\n",
       "      <td>4610</td>\n",
       "      <td>-1091.308225</td>\n",
       "    </tr>\n",
       "  </tbody>\n",
       "</table>\n",
       "</div>"
      ],
      "text/plain": [
       "   Basis     HedgeSum\n",
       "0   4650  -860.492729\n",
       "1   4640  -925.722654\n",
       "2   4630  -986.574975\n",
       "3   4620 -1042.048037\n",
       "4   4610 -1091.308225"
      ]
     },
     "execution_count": 14,
     "metadata": {},
     "output_type": "execute_result"
    }
   ],
   "source": [
    "HedgeBedarf_excel = pd.read_excel(excel_path, sheet_name = f\"{dict_auswahl_prefix[auswahl]}HedgeBedarf\",skiprows=3).rename(columns = {\"Unnamed: 0\" : \"Basis\", \"Unnamed: 2\" : \"HedgeSum\"})[['Basis', 'HedgeSum']]\n",
    "HedgeBedarf_excel.head()"
   ]
  },
  {
   "cell_type": "code",
   "execution_count": 15,
   "metadata": {},
   "outputs": [
    {
     "data": {
      "text/html": [
       "<div>\n",
       "<style scoped>\n",
       "    .dataframe tbody tr th:only-of-type {\n",
       "        vertical-align: middle;\n",
       "    }\n",
       "\n",
       "    .dataframe tbody tr th {\n",
       "        vertical-align: top;\n",
       "    }\n",
       "\n",
       "    .dataframe thead th {\n",
       "        text-align: right;\n",
       "    }\n",
       "</style>\n",
       "<table border=\"1\" class=\"dataframe\">\n",
       "  <thead>\n",
       "    <tr style=\"text-align: right;\">\n",
       "      <th></th>\n",
       "      <th>Basis</th>\n",
       "      <th>HedgeSum_py</th>\n",
       "      <th>HedgeSum_excel</th>\n",
       "      <th>dif</th>\n",
       "    </tr>\n",
       "  </thead>\n",
       "  <tbody>\n",
       "    <tr>\n",
       "      <th>5</th>\n",
       "      <td>4600.0</td>\n",
       "      <td>-1133.700483</td>\n",
       "      <td>-1133.700483</td>\n",
       "      <td>4.547474e-13</td>\n",
       "    </tr>\n",
       "    <tr>\n",
       "      <th>14</th>\n",
       "      <td>4510.0</td>\n",
       "      <td>-1169.051749</td>\n",
       "      <td>-1169.051749</td>\n",
       "      <td>4.547474e-13</td>\n",
       "    </tr>\n",
       "    <tr>\n",
       "      <th>9</th>\n",
       "      <td>4560.0</td>\n",
       "      <td>-1227.229740</td>\n",
       "      <td>-1227.229740</td>\n",
       "      <td>4.547474e-13</td>\n",
       "    </tr>\n",
       "    <tr>\n",
       "      <th>2</th>\n",
       "      <td>4630.0</td>\n",
       "      <td>-986.574975</td>\n",
       "      <td>-986.574975</td>\n",
       "      <td>3.410605e-13</td>\n",
       "    </tr>\n",
       "    <tr>\n",
       "      <th>24</th>\n",
       "      <td>4410.0</td>\n",
       "      <td>-627.559073</td>\n",
       "      <td>-627.559073</td>\n",
       "      <td>3.410605e-13</td>\n",
       "    </tr>\n",
       "    <tr>\n",
       "      <th>1</th>\n",
       "      <td>4640.0</td>\n",
       "      <td>-925.722654</td>\n",
       "      <td>-925.722654</td>\n",
       "      <td>3.410605e-13</td>\n",
       "    </tr>\n",
       "    <tr>\n",
       "      <th>64</th>\n",
       "      <td>4010.0</td>\n",
       "      <td>1225.148343</td>\n",
       "      <td>1225.148343</td>\n",
       "      <td>2.273737e-13</td>\n",
       "    </tr>\n",
       "    <tr>\n",
       "      <th>12</th>\n",
       "      <td>4530.0</td>\n",
       "      <td>-1214.905338</td>\n",
       "      <td>-1214.905338</td>\n",
       "      <td>2.273737e-13</td>\n",
       "    </tr>\n",
       "    <tr>\n",
       "      <th>62</th>\n",
       "      <td>4030.0</td>\n",
       "      <td>1300.381536</td>\n",
       "      <td>1300.381536</td>\n",
       "      <td>2.273737e-13</td>\n",
       "    </tr>\n",
       "    <tr>\n",
       "      <th>15</th>\n",
       "      <td>4500.0</td>\n",
       "      <td>-1135.670885</td>\n",
       "      <td>-1135.670885</td>\n",
       "      <td>2.273737e-13</td>\n",
       "    </tr>\n",
       "    <tr>\n",
       "      <th>65</th>\n",
       "      <td>4000.0</td>\n",
       "      <td>1173.810872</td>\n",
       "      <td>1173.810872</td>\n",
       "      <td>2.273737e-13</td>\n",
       "    </tr>\n",
       "    <tr>\n",
       "      <th>66</th>\n",
       "      <td>3990.0</td>\n",
       "      <td>1113.667093</td>\n",
       "      <td>1113.667093</td>\n",
       "      <td>2.273737e-13</td>\n",
       "    </tr>\n",
       "    <tr>\n",
       "      <th>11</th>\n",
       "      <td>4540.0</td>\n",
       "      <td>-1226.748765</td>\n",
       "      <td>-1226.748765</td>\n",
       "      <td>2.273737e-13</td>\n",
       "    </tr>\n",
       "    <tr>\n",
       "      <th>22</th>\n",
       "      <td>4430.0</td>\n",
       "      <td>-758.903720</td>\n",
       "      <td>-758.903720</td>\n",
       "      <td>2.273737e-13</td>\n",
       "    </tr>\n",
       "    <tr>\n",
       "      <th>8</th>\n",
       "      <td>4570.0</td>\n",
       "      <td>-1215.638680</td>\n",
       "      <td>-1215.638680</td>\n",
       "      <td>2.273737e-13</td>\n",
       "    </tr>\n",
       "    <tr>\n",
       "      <th>7</th>\n",
       "      <td>4580.0</td>\n",
       "      <td>-1196.118823</td>\n",
       "      <td>-1196.118823</td>\n",
       "      <td>2.273737e-13</td>\n",
       "    </tr>\n",
       "    <tr>\n",
       "      <th>49</th>\n",
       "      <td>4160.0</td>\n",
       "      <td>1067.994560</td>\n",
       "      <td>1067.994560</td>\n",
       "      <td>2.273737e-13</td>\n",
       "    </tr>\n",
       "    <tr>\n",
       "      <th>26</th>\n",
       "      <td>4390.0</td>\n",
       "      <td>-495.681291</td>\n",
       "      <td>-495.681291</td>\n",
       "      <td>1.136868e-13</td>\n",
       "    </tr>\n",
       "    <tr>\n",
       "      <th>45</th>\n",
       "      <td>4200.0</td>\n",
       "      <td>816.753358</td>\n",
       "      <td>816.753358</td>\n",
       "      <td>1.136868e-13</td>\n",
       "    </tr>\n",
       "    <tr>\n",
       "      <th>44</th>\n",
       "      <td>4210.0</td>\n",
       "      <td>746.140719</td>\n",
       "      <td>746.140719</td>\n",
       "      <td>1.136868e-13</td>\n",
       "    </tr>\n",
       "  </tbody>\n",
       "</table>\n",
       "</div>"
      ],
      "text/plain": [
       "     Basis  HedgeSum_py  HedgeSum_excel           dif\n",
       "5   4600.0 -1133.700483    -1133.700483  4.547474e-13\n",
       "14  4510.0 -1169.051749    -1169.051749  4.547474e-13\n",
       "9   4560.0 -1227.229740    -1227.229740  4.547474e-13\n",
       "2   4630.0  -986.574975     -986.574975  3.410605e-13\n",
       "24  4410.0  -627.559073     -627.559073  3.410605e-13\n",
       "1   4640.0  -925.722654     -925.722654  3.410605e-13\n",
       "64  4010.0  1225.148343     1225.148343  2.273737e-13\n",
       "12  4530.0 -1214.905338    -1214.905338  2.273737e-13\n",
       "62  4030.0  1300.381536     1300.381536  2.273737e-13\n",
       "15  4500.0 -1135.670885    -1135.670885  2.273737e-13\n",
       "65  4000.0  1173.810872     1173.810872  2.273737e-13\n",
       "66  3990.0  1113.667093     1113.667093  2.273737e-13\n",
       "11  4540.0 -1226.748765    -1226.748765  2.273737e-13\n",
       "22  4430.0  -758.903720     -758.903720  2.273737e-13\n",
       "8   4570.0 -1215.638680    -1215.638680  2.273737e-13\n",
       "7   4580.0 -1196.118823    -1196.118823  2.273737e-13\n",
       "49  4160.0  1067.994560     1067.994560  2.273737e-13\n",
       "26  4390.0  -495.681291     -495.681291  1.136868e-13\n",
       "45  4200.0   816.753358      816.753358  1.136868e-13\n",
       "44  4210.0   746.140719      746.140719  1.136868e-13"
      ]
     },
     "execution_count": 15,
     "metadata": {},
     "output_type": "execute_result"
    }
   ],
   "source": [
    "compare_df = HedgeBedarf_df[['Basis', 'HedgeSum']].merge(HedgeBedarf_excel, on = 'Basis',suffixes=('_py', '_excel'))\n",
    "\n",
    "# Biggest difference between python and excel\n",
    "(compare_df.HedgeSum_py - compare_df.HedgeSum_excel).abs().max()\n",
    "\n",
    "\n",
    "compare_df['dif'] = (compare_df.HedgeSum_py - compare_df.HedgeSum_excel).abs()\n",
    "compare_df.loc[compare_df.dif.sort_values(ascending=False).index].head(20)"
   ]
  },
  {
   "cell_type": "code",
   "execution_count": 3,
   "metadata": {},
   "outputs": [],
   "source": [
    "#auswahl = 1\n",
    "#excel_path = \"./excel_files/STOXX_OI-Abfrage 2023-09-11 V9.00.xlsm\"\n",
    "\n",
    "auswahl = 0\n",
    "excel_path = \"./excel_files/EUREX 2023-08-28.xlsm\"\n",
    "\n",
    "Summery_df = pd.read_parquet(os.path.join(temp_results_path, f'{dict_index_stock[auswahl]}_Summery_df.parquet'))\n",
    "HedgeBedarf_df = pd.read_parquet(os.path.join(temp_results_path, f'{dict_index_stock[auswahl]}_HedgeBedarf_df.parquet'))\n",
    "HedgeBedarf1_df = pd.read_parquet(os.path.join(temp_results_path, f'{dict_index_stock[auswahl]}_HedgeBedarf1_df.parquet'))\n",
    "\n",
    "stock_price = read_pickle(os.path.join(temp_results_path, f'{dict_index_stock[auswahl]}_stock_price.pickle'))\n",
    "heute = read_pickle(os.path.join(temp_results_path, f'{dict_index_stock[auswahl]}_heute.pickle'))\n",
    "tradingDates = read_pickle(os.path.join(temp_results_path, f'{dict_index_stock[auswahl]}_tradingDates.pickle'))\n",
    "future_date_col = read_pickle(os.path.join(temp_results_path, f'{dict_index_stock[auswahl]}_future_date_col.pickle'))\n",
    "\n",
    "expiry = read_pickle(os.path.join(temp_results_path, f'{dict_index_stock[auswahl]}_expiry.pickle'))\n",
    "tage_bis_verfall = read_pickle(os.path.join(temp_results_path, f'{dict_index_stock[auswahl]}_tage_bis_verfall.pickle'))\n",
    "delta = read_pickle(os.path.join(temp_results_path, f'{dict_index_stock[auswahl]}_delta.pickle'))    "
   ]
  },
  {
   "cell_type": "code",
   "execution_count": 3,
   "metadata": {},
   "outputs": [
    {
     "ename": "NameError",
     "evalue": "name 'HedgeBedarf_df' is not defined",
     "output_type": "error",
     "traceback": [
      "\u001b[1;31m---------------------------------------------------------------------------\u001b[0m",
      "\u001b[1;31mNameError\u001b[0m                                 Traceback (most recent call last)",
      "Cell \u001b[1;32mIn[3], line 3\u001b[0m\n\u001b[0;32m      1\u001b[0m \u001b[39m# Fifth stage\u001b[39;00m\n\u001b[0;32m      2\u001b[0m \u001b[39m# Values to create arrow\u001b[39;00m\n\u001b[1;32m----> 3\u001b[0m idx_closest \u001b[39m=\u001b[39m (HedgeBedarf_df\u001b[39m.\u001b[39mBasis \u001b[39m-\u001b[39m stock_price)\u001b[39m.\u001b[39mabs()\u001b[39m.\u001b[39midxmin()\n\u001b[0;32m      4\u001b[0m closest_Basis \u001b[39m=\u001b[39m  HedgeBedarf_df\u001b[39m.\u001b[39mloc[idx_closest,\u001b[39m\"\u001b[39m\u001b[39mBasis\u001b[39m\u001b[39m\"\u001b[39m]\n\u001b[0;32m      5\u001b[0m closest_Sum \u001b[39m=\u001b[39m HedgeBedarf_df\u001b[39m.\u001b[39mloc[idx_closest,\u001b[39m\"\u001b[39m\u001b[39mSum\u001b[39m\u001b[39m\"\u001b[39m]\n",
      "\u001b[1;31mNameError\u001b[0m: name 'HedgeBedarf_df' is not defined"
     ]
    }
   ],
   "source": [
    "# Fifth stage\n",
    "# Values to create arrow\n",
    "idx_closest = (HedgeBedarf_df.Basis - stock_price).abs().idxmin()\n",
    "closest_Basis =  HedgeBedarf_df.loc[idx_closest,\"Basis\"]\n",
    "closest_Sum = HedgeBedarf_df.loc[idx_closest,\"Sum\"]\n",
    "\n",
    "x_axis_length = HedgeBedarf_df.Sum.max() - HedgeBedarf_df.Sum.min()\n",
    "y_axis_length = HedgeBedarf_df.Basis.max() - HedgeBedarf_df.Basis.min()\n",
    "\n",
    "min_Kontrakte = 5000\n",
    "max_Differenz = 1000\n",
    "prozentual = 0.2\n",
    "\n",
    "condition_close_verfall = (auswahl == 0) and tage_bis_verfall < 5\n",
    "\n",
    "if condition_close_verfall:\n",
    "    indexes = Summery_df.loc[(Summery_df.Basis >= stock_price)].tail(10).index.to_list() + Summery_df.loc[(Summery_df.Basis < stock_price)].head(10).index.to_list()\n",
    "    Summery_df =  Summery_df.loc[indexes].reset_index(drop=True)\n",
    "\n",
    "    indexes = HedgeBedarf_df.loc[(HedgeBedarf_df.Basis >= Summery_df.Basis.min()) & (HedgeBedarf_df.Basis <= Summery_df.Basis.max())].index\n",
    "    \n",
    "    HedgeBedarf_df = HedgeBedarf_df.loc[indexes].reset_index(drop=True)\n",
    "    HedgeBedarf1_df = HedgeBedarf1_df.loc[indexes].reset_index(drop=True)\n",
    "\n",
    "# (CF > min_Kontrakte) AND (PF > min_Kontrakte) AND (ABS(CF - PF)  < MIN(PF,CF)*)\n",
    "mask_highlights = (\n",
    "    (Summery_df.openInterest_CF > min_Kontrakte) & \n",
    "    (Summery_df.openInterest_PF > min_Kontrakte) & \n",
    "    (\n",
    "        (Summery_df.openInterest_CF - Summery_df.openInterest_PF).abs() < \n",
    "        (Summery_df[['openInterest_PF',\"openInterest_CF\"]].min(axis=1)*prozentual)))\n",
    "\n",
    "\n",
    "################################## Hilights for Basis column ####################################\n",
    "\n",
    "Summery_df[\"basis_color\"] = \"lavender\"\n",
    "Summery_df.loc[\n",
    "    mask_highlights, \"basis_color\"] = \"yellow\"\n",
    "col_basis_color = Summery_df.basis_color.to_numpy()\n",
    "#################################################################################################\n",
    "\n",
    "######################### Gradient of red and blue for Anderung column ##########################\n",
    "aux = Summery_df.Änderung.reset_index()\n",
    "aux['r'] = aux['g']  = aux['b'] = 255\n",
    "aux.loc[aux.Änderung<0,'g'] = aux.loc[aux.Änderung<0,'b'] = 255 - 150*aux.Änderung/(aux.Änderung.min()) \n",
    "aux.loc[aux.Änderung>0,'g'] = aux.loc[aux.Änderung>0,'r'] = 255 - 150*aux.Änderung/(aux.Änderung.max())\n",
    "aux = aux.astype(float)\n",
    "rb_shades = np.array([f\"rgb({aux.loc[i,'r']},{aux.loc[i,'g']},{aux.loc[i,'b']})\" for i in range(aux.shape[0]) ])\n",
    "col_anderung_color = rb_shades\n",
    "#################################################################################################\n",
    "\n",
    "############################# Colors for heute and last_day columns #############################\n",
    "col_heute_color = posneg_binary_color(Summery_df.heute,\"rgb(0, 204, 204)\",\"rgb(77, 166, 255)\")\n",
    "col_last_day_color = posneg_binary_color(Summery_df.last_day,\"rgb(0, 204, 204)\",\"rgb(77, 166, 255)\")\n",
    "#################################################################################################\n",
    "\n",
    "###################### Gradient of green and blue for Put anc Call columns ######################\n",
    "col_put_color  = np.array(n_colors('rgb(214, 245, 214)', 'rgb(40, 164, 40)',\n",
    "    20, colortype='rgb'))[scale_col_range(Summery_df.openInterest_PF,19)]\n",
    "\n",
    "col_call_color  = np.array(n_colors('rgb(204, 224, 255)', 'rgb(0, 90, 179)',\n",
    "    20, colortype='rgb'))[scale_col_range(Summery_df.openInterest_CF,19)]\n",
    "#################################################################################################\n",
    "\n",
    "num_rows = Summery_df.shape[0]+1\n",
    "height = 1050 #row_height*42\n",
    "row_height = int(height/(num_rows))\n",
    "\n",
    "# width of the image\n",
    "widht = 1000\n",
    "row_height_percent =  (row_height/height)\n",
    "\n",
    "\n",
    "\n",
    "values_body = [\n",
    "            (Summery_df.Basis),\n",
    "            (Summery_df.Änderung.round(0)),\n",
    "            (Summery_df.heute.round(2)),\n",
    "            (Summery_df.last_day.round(2)),\n",
    "\n",
    "        ]\n",
    "values_header = bold([\"Basis\",\"Änderung\",next_business_day(tradingDates[0]).strftime(\"%d/%m/%y\"),next_business_day(tradingDates[1]).strftime(\"%d/%m/%y\")])\n",
    "\n",
    "\n",
    "if not  condition_close_verfall:\n",
    "    values_body += [(Summery_df.openInterest_PF), (Summery_df.openInterest_CF)]\n",
    "    values_header += bold([\"Put\",\"Call\"])\n",
    "\n",
    "\n",
    "font_size =  int(440/num_rows)\n",
    "\n",
    "fig = go.Figure(\n",
    "    data=[\n",
    "        go.Table(\n",
    "\n",
    "            # Define some paremeters for the header\n",
    "            header=dict(\n",
    "                # Names of the columns\n",
    "                values= values_header,\n",
    "                \n",
    "                # Header style\n",
    "                fill_color='paleturquoise',\n",
    "                    align='center',\n",
    "                    font = {'size': int(font_size*0.8)},\n",
    "                    height = row_height,\n",
    "            ),\n",
    "\n",
    "            cells=dict(\n",
    "\n",
    "                align='center',\n",
    "                height = row_height,\n",
    "                font = {'size': font_size,},\n",
    "\n",
    "                # Values of the table\n",
    "                values= values_body,\n",
    "\n",
    "                # Colors of the columns\n",
    "                fill_color = [\n",
    "                    col_basis_color,\n",
    "                    col_anderung_color,\n",
    "                    col_heute_color,\n",
    "                    col_last_day_color,\n",
    "                    col_put_color, \n",
    "                    col_call_color\n",
    "                ],\n",
    "            )\n",
    "        )\n",
    "    \n",
    "    ],\n",
    "\n",
    ")\n",
    "fig.update_layout(\n",
    "    height=1050, width=550,\n",
    "    margin=dict(l=0,r=0,b=0.0,t=0)\n",
    ")\n",
    "\n",
    "fig.write_image(os.path.join(current_results_path,'teste1.svg'),scale=1)\n",
    "\n",
    "fig.show()\n",
    "\n",
    "\n",
    "data =  [\n",
    "    go.Scatter(\n",
    "        x = HedgeBedarf_df.Sum,\n",
    "        y = HedgeBedarf_df.Basis,\n",
    "        mode = \"lines\",\n",
    "        name = datetime.strptime(future_date_col[0],\"%Y%m%d\").strftime(\"%Y-%m\") + \" + \"+ datetime.strptime(future_date_col[1],\"%Y%m%d\").strftime(\"%Y-%m\"),\n",
    "        marker_color= \"blue\"\n",
    "    )\n",
    "]\n",
    "\n",
    "\n",
    "\n",
    "if not condition_close_verfall:\n",
    "    data += [\n",
    "        go.Scatter(\n",
    "            x = HedgeBedarf1_df.HedgeSum,\n",
    "            y = HedgeBedarf_df.Basis,\n",
    "            mode = \"lines\",\n",
    "            name = datetime.strptime(future_date_col[1],\"%Y%m%d\").strftime(\"%Y-%m\"),\n",
    "            marker_color= \"purple\"\n",
    "        ),\n",
    "        go.Scatter(\n",
    "        x = HedgeBedarf_df.HedgeSum,\n",
    "        y = HedgeBedarf_df.Basis,\n",
    "        mode = \"lines\",\n",
    "        name = datetime.strptime(future_date_col[0],\"%Y%m%d\").strftime(\"%Y-%m\"),\n",
    "        marker_color= \"orange\"\n",
    "        )\n",
    "    ]\n",
    "\n",
    "##################################################################################################\n",
    "dx =  0.1*(HedgeBedarf_df.Sum.max() - HedgeBedarf_df.Sum.min())\n",
    "\n",
    "\n",
    "\n",
    "fig = go.Figure(data=data)\n",
    "\n",
    "# Create arrow\n",
    "fig.add_trace(go.Scatter(\n",
    "        x = [closest_Sum + x_axis_length/5,closest_Sum + x_axis_length/50], \n",
    "        y = [closest_Basis,closest_Basis],\n",
    "    marker= dict(size=20,symbol= \"arrow-bar-up\", angleref=\"previous\"),\n",
    "    showlegend = False\n",
    "    )\n",
    ")\n",
    "\n",
    "\n",
    "fig.update_layout(\n",
    "    margin=dict(l=0,r=0,b=0.1,t=row_height),\n",
    "    # Set limits in the x and y axis\n",
    "    yaxis_range= [HedgeBedarf_df.Basis.min(), HedgeBedarf_df.Basis.max()],\n",
    "    xaxis_range= [HedgeBedarf_df.Sum.min() - dx, HedgeBedarf_df.Sum.max() + dx],\n",
    "    yaxis = dict(\n",
    "        tickmode = 'array',\n",
    "        tickvals = HedgeBedarf_df.Basis[HedgeBedarf_df.index % 3 == 0],\n",
    "        #ticktext = ['One', 'Three', 'Five', 'Seven', 'Nine', 'Eleven']\n",
    "    ),\n",
    "    \n",
    "    # Remove margins\n",
    "    paper_bgcolor=\"white\",\n",
    "    \n",
    "    # Define width and height of the image\n",
    "    width=380,height=1050,\n",
    "    template = \"seaborn\",\n",
    "\n",
    "    # Legend parameters\n",
    "    legend=dict(\n",
    "        yanchor=\"top\",\n",
    "        y=1,# - (row_height/height),\n",
    "        xanchor=\"right\",\n",
    "        x= 1,\n",
    "        font=dict(\n",
    "            size = 8\n",
    "        ),\n",
    "        # legend in the vertical\n",
    "        orientation = \"v\",\n",
    "        bgcolor  = 'rgba(0,0,0,0)'\n",
    "        ),\n",
    ")\n",
    "\n",
    "\n",
    "fig.write_image(os.path.join(current_results_path,'teste2.svg'),scale=1)\n",
    "fig.show()\n",
    "\n",
    "\n",
    "fig = go.Figure()\n",
    "\n",
    "if not condition_close_verfall:\n",
    "    fig.add_trace(\n",
    "        trace = go.Bar(name='Put', y=Summery_df.Basis, x=Summery_df.openInterest_PF,orientation='h', marker_color = 'rgb(40, 164, 40)'),\n",
    "    )\n",
    "\n",
    "    fig.add_trace(\n",
    "        trace = go.Bar(name='Call', y=Summery_df.Basis, x=Summery_df.openInterest_CF,orientation='h', marker_color = 'rgb(0, 90, 179)'),\n",
    "    )\n",
    "\n",
    "\n",
    "\n",
    "fig.update_layout(\n",
    "    barmode='stack', margin=dict(l=0,r=0,b=0.1,t=row_height),\n",
    "    # Set limits in the x and y axis\n",
    "    #yaxis_range= [HedgeBedarf_df.Basis.min(), HedgeBedarf_df.Basis.max()],\n",
    "    #xaxis_range= [HedgeBedarf_df.Sum.min() - dx, HedgeBedarf_df.Sum.max() + dx],\n",
    "    \n",
    "    # Define width and height of the image\n",
    "    width=80,height=1050,\n",
    "    template = \"seaborn\",\n",
    "    showlegend=False,\n",
    "    bargap =0.5 ,\n",
    "    plot_bgcolor='rgba(0, 0, 0, 0)',\n",
    "    paper_bgcolor='rgba(0, 0, 0, 0)',\n",
    ")\n",
    "\n",
    "\n",
    "fig.update_xaxes(visible=False)\n",
    "fig.update_yaxes(visible=False)\n",
    "\n",
    "fig.write_image(os.path.join(current_results_path,'teste3.svg'),scale=1)\n",
    "fig.show()"
   ]
  },
  {
   "cell_type": "code",
   "execution_count": 46,
   "metadata": {},
   "outputs": [
    {
     "data": {
      "text/plain": [
       "True"
      ]
     },
     "execution_count": 46,
     "metadata": {},
     "output_type": "execute_result"
    }
   ],
   "source": [
    "condition_close_verfall"
   ]
  },
  {
   "cell_type": "code",
   "execution_count": 48,
   "metadata": {},
   "outputs": [
    {
     "data": {
      "application/vnd.plotly.v1+json": {
       "config": {
        "plotlyServerURL": "https://plot.ly"
       },
       "data": [],
       "layout": {
        "bargap": 0.5,
        "barmode": "stack",
        "height": 1050,
        "margin": {
         "b": 0.1,
         "l": 0,
         "r": 0,
         "t": 50
        },
        "paper_bgcolor": "rgba(0, 0, 0, 0)",
        "plot_bgcolor": "rgba(0, 0, 0, 0)",
        "showlegend": false,
        "template": {
         "data": {
          "bar": [
           {
            "error_x": {
             "color": "rgb(36,36,36)"
            },
            "error_y": {
             "color": "rgb(36,36,36)"
            },
            "marker": {
             "line": {
              "color": "rgb(234,234,242)",
              "width": 0.5
             },
             "pattern": {
              "fillmode": "overlay",
              "size": 10,
              "solidity": 0.2
             }
            },
            "type": "bar"
           }
          ],
          "barpolar": [
           {
            "marker": {
             "line": {
              "color": "rgb(234,234,242)",
              "width": 0.5
             },
             "pattern": {
              "fillmode": "overlay",
              "size": 10,
              "solidity": 0.2
             }
            },
            "type": "barpolar"
           }
          ],
          "carpet": [
           {
            "aaxis": {
             "endlinecolor": "rgb(36,36,36)",
             "gridcolor": "white",
             "linecolor": "white",
             "minorgridcolor": "white",
             "startlinecolor": "rgb(36,36,36)"
            },
            "baxis": {
             "endlinecolor": "rgb(36,36,36)",
             "gridcolor": "white",
             "linecolor": "white",
             "minorgridcolor": "white",
             "startlinecolor": "rgb(36,36,36)"
            },
            "type": "carpet"
           }
          ],
          "choropleth": [
           {
            "colorbar": {
             "outlinewidth": 0,
             "tickcolor": "rgb(36,36,36)",
             "ticklen": 8,
             "ticks": "outside",
             "tickwidth": 2
            },
            "type": "choropleth"
           }
          ],
          "contour": [
           {
            "colorbar": {
             "outlinewidth": 0,
             "tickcolor": "rgb(36,36,36)",
             "ticklen": 8,
             "ticks": "outside",
             "tickwidth": 2
            },
            "colorscale": [
             [
              0,
              "rgb(2,4,25)"
             ],
             [
              0.06274509803921569,
              "rgb(24,15,41)"
             ],
             [
              0.12549019607843137,
              "rgb(47,23,57)"
             ],
             [
              0.18823529411764706,
              "rgb(71,28,72)"
             ],
             [
              0.25098039215686274,
              "rgb(97,30,82)"
             ],
             [
              0.3137254901960784,
              "rgb(123,30,89)"
             ],
             [
              0.3764705882352941,
              "rgb(150,27,91)"
             ],
             [
              0.4392156862745098,
              "rgb(177,22,88)"
             ],
             [
              0.5019607843137255,
              "rgb(203,26,79)"
             ],
             [
              0.5647058823529412,
              "rgb(223,47,67)"
             ],
             [
              0.6274509803921569,
              "rgb(236,76,61)"
             ],
             [
              0.6901960784313725,
              "rgb(242,107,73)"
             ],
             [
              0.7529411764705882,
              "rgb(244,135,95)"
             ],
             [
              0.8156862745098039,
              "rgb(245,162,122)"
             ],
             [
              0.8784313725490196,
              "rgb(246,188,153)"
             ],
             [
              0.9411764705882353,
              "rgb(247,212,187)"
             ],
             [
              1,
              "rgb(250,234,220)"
             ]
            ],
            "type": "contour"
           }
          ],
          "contourcarpet": [
           {
            "colorbar": {
             "outlinewidth": 0,
             "tickcolor": "rgb(36,36,36)",
             "ticklen": 8,
             "ticks": "outside",
             "tickwidth": 2
            },
            "type": "contourcarpet"
           }
          ],
          "heatmap": [
           {
            "colorbar": {
             "outlinewidth": 0,
             "tickcolor": "rgb(36,36,36)",
             "ticklen": 8,
             "ticks": "outside",
             "tickwidth": 2
            },
            "colorscale": [
             [
              0,
              "rgb(2,4,25)"
             ],
             [
              0.06274509803921569,
              "rgb(24,15,41)"
             ],
             [
              0.12549019607843137,
              "rgb(47,23,57)"
             ],
             [
              0.18823529411764706,
              "rgb(71,28,72)"
             ],
             [
              0.25098039215686274,
              "rgb(97,30,82)"
             ],
             [
              0.3137254901960784,
              "rgb(123,30,89)"
             ],
             [
              0.3764705882352941,
              "rgb(150,27,91)"
             ],
             [
              0.4392156862745098,
              "rgb(177,22,88)"
             ],
             [
              0.5019607843137255,
              "rgb(203,26,79)"
             ],
             [
              0.5647058823529412,
              "rgb(223,47,67)"
             ],
             [
              0.6274509803921569,
              "rgb(236,76,61)"
             ],
             [
              0.6901960784313725,
              "rgb(242,107,73)"
             ],
             [
              0.7529411764705882,
              "rgb(244,135,95)"
             ],
             [
              0.8156862745098039,
              "rgb(245,162,122)"
             ],
             [
              0.8784313725490196,
              "rgb(246,188,153)"
             ],
             [
              0.9411764705882353,
              "rgb(247,212,187)"
             ],
             [
              1,
              "rgb(250,234,220)"
             ]
            ],
            "type": "heatmap"
           }
          ],
          "heatmapgl": [
           {
            "colorbar": {
             "outlinewidth": 0,
             "tickcolor": "rgb(36,36,36)",
             "ticklen": 8,
             "ticks": "outside",
             "tickwidth": 2
            },
            "colorscale": [
             [
              0,
              "rgb(2,4,25)"
             ],
             [
              0.06274509803921569,
              "rgb(24,15,41)"
             ],
             [
              0.12549019607843137,
              "rgb(47,23,57)"
             ],
             [
              0.18823529411764706,
              "rgb(71,28,72)"
             ],
             [
              0.25098039215686274,
              "rgb(97,30,82)"
             ],
             [
              0.3137254901960784,
              "rgb(123,30,89)"
             ],
             [
              0.3764705882352941,
              "rgb(150,27,91)"
             ],
             [
              0.4392156862745098,
              "rgb(177,22,88)"
             ],
             [
              0.5019607843137255,
              "rgb(203,26,79)"
             ],
             [
              0.5647058823529412,
              "rgb(223,47,67)"
             ],
             [
              0.6274509803921569,
              "rgb(236,76,61)"
             ],
             [
              0.6901960784313725,
              "rgb(242,107,73)"
             ],
             [
              0.7529411764705882,
              "rgb(244,135,95)"
             ],
             [
              0.8156862745098039,
              "rgb(245,162,122)"
             ],
             [
              0.8784313725490196,
              "rgb(246,188,153)"
             ],
             [
              0.9411764705882353,
              "rgb(247,212,187)"
             ],
             [
              1,
              "rgb(250,234,220)"
             ]
            ],
            "type": "heatmapgl"
           }
          ],
          "histogram": [
           {
            "marker": {
             "pattern": {
              "fillmode": "overlay",
              "size": 10,
              "solidity": 0.2
             }
            },
            "type": "histogram"
           }
          ],
          "histogram2d": [
           {
            "colorbar": {
             "outlinewidth": 0,
             "tickcolor": "rgb(36,36,36)",
             "ticklen": 8,
             "ticks": "outside",
             "tickwidth": 2
            },
            "colorscale": [
             [
              0,
              "rgb(2,4,25)"
             ],
             [
              0.06274509803921569,
              "rgb(24,15,41)"
             ],
             [
              0.12549019607843137,
              "rgb(47,23,57)"
             ],
             [
              0.18823529411764706,
              "rgb(71,28,72)"
             ],
             [
              0.25098039215686274,
              "rgb(97,30,82)"
             ],
             [
              0.3137254901960784,
              "rgb(123,30,89)"
             ],
             [
              0.3764705882352941,
              "rgb(150,27,91)"
             ],
             [
              0.4392156862745098,
              "rgb(177,22,88)"
             ],
             [
              0.5019607843137255,
              "rgb(203,26,79)"
             ],
             [
              0.5647058823529412,
              "rgb(223,47,67)"
             ],
             [
              0.6274509803921569,
              "rgb(236,76,61)"
             ],
             [
              0.6901960784313725,
              "rgb(242,107,73)"
             ],
             [
              0.7529411764705882,
              "rgb(244,135,95)"
             ],
             [
              0.8156862745098039,
              "rgb(245,162,122)"
             ],
             [
              0.8784313725490196,
              "rgb(246,188,153)"
             ],
             [
              0.9411764705882353,
              "rgb(247,212,187)"
             ],
             [
              1,
              "rgb(250,234,220)"
             ]
            ],
            "type": "histogram2d"
           }
          ],
          "histogram2dcontour": [
           {
            "colorbar": {
             "outlinewidth": 0,
             "tickcolor": "rgb(36,36,36)",
             "ticklen": 8,
             "ticks": "outside",
             "tickwidth": 2
            },
            "colorscale": [
             [
              0,
              "rgb(2,4,25)"
             ],
             [
              0.06274509803921569,
              "rgb(24,15,41)"
             ],
             [
              0.12549019607843137,
              "rgb(47,23,57)"
             ],
             [
              0.18823529411764706,
              "rgb(71,28,72)"
             ],
             [
              0.25098039215686274,
              "rgb(97,30,82)"
             ],
             [
              0.3137254901960784,
              "rgb(123,30,89)"
             ],
             [
              0.3764705882352941,
              "rgb(150,27,91)"
             ],
             [
              0.4392156862745098,
              "rgb(177,22,88)"
             ],
             [
              0.5019607843137255,
              "rgb(203,26,79)"
             ],
             [
              0.5647058823529412,
              "rgb(223,47,67)"
             ],
             [
              0.6274509803921569,
              "rgb(236,76,61)"
             ],
             [
              0.6901960784313725,
              "rgb(242,107,73)"
             ],
             [
              0.7529411764705882,
              "rgb(244,135,95)"
             ],
             [
              0.8156862745098039,
              "rgb(245,162,122)"
             ],
             [
              0.8784313725490196,
              "rgb(246,188,153)"
             ],
             [
              0.9411764705882353,
              "rgb(247,212,187)"
             ],
             [
              1,
              "rgb(250,234,220)"
             ]
            ],
            "type": "histogram2dcontour"
           }
          ],
          "mesh3d": [
           {
            "colorbar": {
             "outlinewidth": 0,
             "tickcolor": "rgb(36,36,36)",
             "ticklen": 8,
             "ticks": "outside",
             "tickwidth": 2
            },
            "type": "mesh3d"
           }
          ],
          "parcoords": [
           {
            "line": {
             "colorbar": {
              "outlinewidth": 0,
              "tickcolor": "rgb(36,36,36)",
              "ticklen": 8,
              "ticks": "outside",
              "tickwidth": 2
             }
            },
            "type": "parcoords"
           }
          ],
          "pie": [
           {
            "automargin": true,
            "type": "pie"
           }
          ],
          "scatter": [
           {
            "fillpattern": {
             "fillmode": "overlay",
             "size": 10,
             "solidity": 0.2
            },
            "type": "scatter"
           }
          ],
          "scatter3d": [
           {
            "line": {
             "colorbar": {
              "outlinewidth": 0,
              "tickcolor": "rgb(36,36,36)",
              "ticklen": 8,
              "ticks": "outside",
              "tickwidth": 2
             }
            },
            "marker": {
             "colorbar": {
              "outlinewidth": 0,
              "tickcolor": "rgb(36,36,36)",
              "ticklen": 8,
              "ticks": "outside",
              "tickwidth": 2
             }
            },
            "type": "scatter3d"
           }
          ],
          "scattercarpet": [
           {
            "marker": {
             "colorbar": {
              "outlinewidth": 0,
              "tickcolor": "rgb(36,36,36)",
              "ticklen": 8,
              "ticks": "outside",
              "tickwidth": 2
             }
            },
            "type": "scattercarpet"
           }
          ],
          "scattergeo": [
           {
            "marker": {
             "colorbar": {
              "outlinewidth": 0,
              "tickcolor": "rgb(36,36,36)",
              "ticklen": 8,
              "ticks": "outside",
              "tickwidth": 2
             }
            },
            "type": "scattergeo"
           }
          ],
          "scattergl": [
           {
            "marker": {
             "colorbar": {
              "outlinewidth": 0,
              "tickcolor": "rgb(36,36,36)",
              "ticklen": 8,
              "ticks": "outside",
              "tickwidth": 2
             }
            },
            "type": "scattergl"
           }
          ],
          "scattermapbox": [
           {
            "marker": {
             "colorbar": {
              "outlinewidth": 0,
              "tickcolor": "rgb(36,36,36)",
              "ticklen": 8,
              "ticks": "outside",
              "tickwidth": 2
             }
            },
            "type": "scattermapbox"
           }
          ],
          "scatterpolar": [
           {
            "marker": {
             "colorbar": {
              "outlinewidth": 0,
              "tickcolor": "rgb(36,36,36)",
              "ticklen": 8,
              "ticks": "outside",
              "tickwidth": 2
             }
            },
            "type": "scatterpolar"
           }
          ],
          "scatterpolargl": [
           {
            "marker": {
             "colorbar": {
              "outlinewidth": 0,
              "tickcolor": "rgb(36,36,36)",
              "ticklen": 8,
              "ticks": "outside",
              "tickwidth": 2
             }
            },
            "type": "scatterpolargl"
           }
          ],
          "scatterternary": [
           {
            "marker": {
             "colorbar": {
              "outlinewidth": 0,
              "tickcolor": "rgb(36,36,36)",
              "ticklen": 8,
              "ticks": "outside",
              "tickwidth": 2
             }
            },
            "type": "scatterternary"
           }
          ],
          "surface": [
           {
            "colorbar": {
             "outlinewidth": 0,
             "tickcolor": "rgb(36,36,36)",
             "ticklen": 8,
             "ticks": "outside",
             "tickwidth": 2
            },
            "colorscale": [
             [
              0,
              "rgb(2,4,25)"
             ],
             [
              0.06274509803921569,
              "rgb(24,15,41)"
             ],
             [
              0.12549019607843137,
              "rgb(47,23,57)"
             ],
             [
              0.18823529411764706,
              "rgb(71,28,72)"
             ],
             [
              0.25098039215686274,
              "rgb(97,30,82)"
             ],
             [
              0.3137254901960784,
              "rgb(123,30,89)"
             ],
             [
              0.3764705882352941,
              "rgb(150,27,91)"
             ],
             [
              0.4392156862745098,
              "rgb(177,22,88)"
             ],
             [
              0.5019607843137255,
              "rgb(203,26,79)"
             ],
             [
              0.5647058823529412,
              "rgb(223,47,67)"
             ],
             [
              0.6274509803921569,
              "rgb(236,76,61)"
             ],
             [
              0.6901960784313725,
              "rgb(242,107,73)"
             ],
             [
              0.7529411764705882,
              "rgb(244,135,95)"
             ],
             [
              0.8156862745098039,
              "rgb(245,162,122)"
             ],
             [
              0.8784313725490196,
              "rgb(246,188,153)"
             ],
             [
              0.9411764705882353,
              "rgb(247,212,187)"
             ],
             [
              1,
              "rgb(250,234,220)"
             ]
            ],
            "type": "surface"
           }
          ],
          "table": [
           {
            "cells": {
             "fill": {
              "color": "rgb(231,231,240)"
             },
             "line": {
              "color": "white"
             }
            },
            "header": {
             "fill": {
              "color": "rgb(183,183,191)"
             },
             "line": {
              "color": "white"
             }
            },
            "type": "table"
           }
          ]
         },
         "layout": {
          "annotationdefaults": {
           "arrowcolor": "rgb(67,103,167)"
          },
          "autotypenumbers": "strict",
          "coloraxis": {
           "colorbar": {
            "outlinewidth": 0,
            "tickcolor": "rgb(36,36,36)",
            "ticklen": 8,
            "ticks": "outside",
            "tickwidth": 2
           }
          },
          "colorscale": {
           "sequential": [
            [
             0,
             "rgb(2,4,25)"
            ],
            [
             0.06274509803921569,
             "rgb(24,15,41)"
            ],
            [
             0.12549019607843137,
             "rgb(47,23,57)"
            ],
            [
             0.18823529411764706,
             "rgb(71,28,72)"
            ],
            [
             0.25098039215686274,
             "rgb(97,30,82)"
            ],
            [
             0.3137254901960784,
             "rgb(123,30,89)"
            ],
            [
             0.3764705882352941,
             "rgb(150,27,91)"
            ],
            [
             0.4392156862745098,
             "rgb(177,22,88)"
            ],
            [
             0.5019607843137255,
             "rgb(203,26,79)"
            ],
            [
             0.5647058823529412,
             "rgb(223,47,67)"
            ],
            [
             0.6274509803921569,
             "rgb(236,76,61)"
            ],
            [
             0.6901960784313725,
             "rgb(242,107,73)"
            ],
            [
             0.7529411764705882,
             "rgb(244,135,95)"
            ],
            [
             0.8156862745098039,
             "rgb(245,162,122)"
            ],
            [
             0.8784313725490196,
             "rgb(246,188,153)"
            ],
            [
             0.9411764705882353,
             "rgb(247,212,187)"
            ],
            [
             1,
             "rgb(250,234,220)"
            ]
           ],
           "sequentialminus": [
            [
             0,
             "rgb(2,4,25)"
            ],
            [
             0.06274509803921569,
             "rgb(24,15,41)"
            ],
            [
             0.12549019607843137,
             "rgb(47,23,57)"
            ],
            [
             0.18823529411764706,
             "rgb(71,28,72)"
            ],
            [
             0.25098039215686274,
             "rgb(97,30,82)"
            ],
            [
             0.3137254901960784,
             "rgb(123,30,89)"
            ],
            [
             0.3764705882352941,
             "rgb(150,27,91)"
            ],
            [
             0.4392156862745098,
             "rgb(177,22,88)"
            ],
            [
             0.5019607843137255,
             "rgb(203,26,79)"
            ],
            [
             0.5647058823529412,
             "rgb(223,47,67)"
            ],
            [
             0.6274509803921569,
             "rgb(236,76,61)"
            ],
            [
             0.6901960784313725,
             "rgb(242,107,73)"
            ],
            [
             0.7529411764705882,
             "rgb(244,135,95)"
            ],
            [
             0.8156862745098039,
             "rgb(245,162,122)"
            ],
            [
             0.8784313725490196,
             "rgb(246,188,153)"
            ],
            [
             0.9411764705882353,
             "rgb(247,212,187)"
            ],
            [
             1,
             "rgb(250,234,220)"
            ]
           ]
          },
          "colorway": [
           "rgb(76,114,176)",
           "rgb(221,132,82)",
           "rgb(85,168,104)",
           "rgb(196,78,82)",
           "rgb(129,114,179)",
           "rgb(147,120,96)",
           "rgb(218,139,195)",
           "rgb(140,140,140)",
           "rgb(204,185,116)",
           "rgb(100,181,205)"
          ],
          "font": {
           "color": "rgb(36,36,36)"
          },
          "geo": {
           "bgcolor": "white",
           "lakecolor": "white",
           "landcolor": "rgb(234,234,242)",
           "showlakes": true,
           "showland": true,
           "subunitcolor": "white"
          },
          "hoverlabel": {
           "align": "left"
          },
          "hovermode": "closest",
          "paper_bgcolor": "white",
          "plot_bgcolor": "rgb(234,234,242)",
          "polar": {
           "angularaxis": {
            "gridcolor": "white",
            "linecolor": "white",
            "showgrid": true,
            "ticks": ""
           },
           "bgcolor": "rgb(234,234,242)",
           "radialaxis": {
            "gridcolor": "white",
            "linecolor": "white",
            "showgrid": true,
            "ticks": ""
           }
          },
          "scene": {
           "xaxis": {
            "backgroundcolor": "rgb(234,234,242)",
            "gridcolor": "white",
            "gridwidth": 2,
            "linecolor": "white",
            "showbackground": true,
            "showgrid": true,
            "ticks": "",
            "zerolinecolor": "white"
           },
           "yaxis": {
            "backgroundcolor": "rgb(234,234,242)",
            "gridcolor": "white",
            "gridwidth": 2,
            "linecolor": "white",
            "showbackground": true,
            "showgrid": true,
            "ticks": "",
            "zerolinecolor": "white"
           },
           "zaxis": {
            "backgroundcolor": "rgb(234,234,242)",
            "gridcolor": "white",
            "gridwidth": 2,
            "linecolor": "white",
            "showbackground": true,
            "showgrid": true,
            "ticks": "",
            "zerolinecolor": "white"
           }
          },
          "shapedefaults": {
           "fillcolor": "rgb(67,103,167)",
           "line": {
            "width": 0
           },
           "opacity": 0.5
          },
          "ternary": {
           "aaxis": {
            "gridcolor": "white",
            "linecolor": "white",
            "showgrid": true,
            "ticks": ""
           },
           "baxis": {
            "gridcolor": "white",
            "linecolor": "white",
            "showgrid": true,
            "ticks": ""
           },
           "bgcolor": "rgb(234,234,242)",
           "caxis": {
            "gridcolor": "white",
            "linecolor": "white",
            "showgrid": true,
            "ticks": ""
           }
          },
          "xaxis": {
           "automargin": true,
           "gridcolor": "white",
           "linecolor": "white",
           "showgrid": true,
           "ticks": "",
           "title": {
            "standoff": 15
           },
           "zerolinecolor": "white"
          },
          "yaxis": {
           "automargin": true,
           "gridcolor": "white",
           "linecolor": "white",
           "showgrid": true,
           "ticks": "",
           "title": {
            "standoff": 15
           },
           "zerolinecolor": "white"
          }
         }
        },
        "width": 80,
        "xaxis": {
         "visible": false
        },
        "yaxis": {
         "visible": false
        }
       }
      }
     },
     "metadata": {},
     "output_type": "display_data"
    }
   ],
   "source": []
  },
  {
   "cell_type": "code",
   "execution_count": 25,
   "metadata": {},
   "outputs": [
    {
     "data": {
      "text/plain": [
       "15735.5"
      ]
     },
     "execution_count": 25,
     "metadata": {},
     "output_type": "execute_result"
    }
   ],
   "source": [
    "stock_price"
   ]
  }
 ],
 "metadata": {
  "kernelspec": {
   "display_name": "eurex",
   "language": "python",
   "name": "python3"
  },
  "language_info": {
   "codemirror_mode": {
    "name": "ipython",
    "version": 3
   },
   "file_extension": ".py",
   "mimetype": "text/x-python",
   "name": "python",
   "nbconvert_exporter": "python",
   "pygments_lexer": "ipython3",
   "version": "3.11.4 | packaged by Anaconda, Inc. | (main, Jul  5 2023, 13:47:18) [MSC v.1916 64 bit (AMD64)]"
  },
  "vscode": {
   "interpreter": {
    "hash": "57e2b15c4caf69ea5b54adbe49496b75ff27d72dd878598ef18ae1487f34bdf2"
   }
  }
 },
 "nbformat": 4,
 "nbformat_minor": 2
}
