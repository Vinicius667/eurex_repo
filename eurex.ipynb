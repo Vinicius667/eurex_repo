{
 "cells": [
  {
   "cell_type": "code",
   "execution_count": 1,
   "metadata": {},
   "outputs": [],
   "source": [
    "from utils import *\n",
    "from variables import *\n",
    "from datetime import datetime, timedelta\n",
    "import requests\n",
    "import re\n",
    "from scipy.stats import norm\n",
    "from plotly.subplots import make_subplots\n",
    "import plotly.graph_objects as go\n",
    "from pyhtml2pdf import  converter\n",
    "import shutil\n",
    "from plotly.colors import n_colors\n",
    "from typing import Union, List, Dict\n",
    "from bs4 import BeautifulSoup\n",
    "import traceback\n",
    "from utils import read_pickle, save_as_pickle\n",
    "from generate_files import generate_pdfs"
   ]
  },
  {
   "cell_type": "code",
   "execution_count": 2,
   "metadata": {},
   "outputs": [],
   "source": [
    "dict_prod_bus = read_pickle(os.path.join(temp_results_path, f'dict_prod_bus.pickle'))\n",
    "list_email_send = read_pickle(os.path.join(temp_results_path, f'list_email_send.pickle'))"
   ]
  },
  {
   "cell_type": "code",
   "execution_count": 3,
   "metadata": {},
   "outputs": [
    {
     "name": "stdout",
     "output_type": "stream",
     "text": [
      "PDF has been generated.\n",
      "PDF has been generated.\n"
     ]
    }
   ],
   "source": [
    "list_email_send = read_pickle(os.path.join(temp_results_path, f'list_email_send.pickle'))\n",
    "list_options = []\n",
    "for email in list_emails:\n",
    "    if email['id'] in list_email_send:\n",
    "        list_options.append(dict_stock_index[email['index']])\n",
    "list_options = set(list_options)\n",
    "\n",
    "for option in list_options:\n",
    "    generate_pdfs(option)"
   ]
  }
 ],
 "metadata": {
  "kernelspec": {
   "display_name": "base",
   "language": "python",
   "name": "python3"
  },
  "language_info": {
   "codemirror_mode": {
    "name": "ipython",
    "version": 3
   },
   "file_extension": ".py",
   "mimetype": "text/x-python",
   "name": "python",
   "nbconvert_exporter": "python",
   "pygments_lexer": "ipython3",
   "version": "3.9.17"
  },
  "vscode": {
   "interpreter": {
    "hash": "bc2cefd0281c801cfecce64a6c6f045a8fc1e4c861b6297eb4e87b91b65006cb"
   }
  }
 },
 "nbformat": 4,
 "nbformat_minor": 2
}
