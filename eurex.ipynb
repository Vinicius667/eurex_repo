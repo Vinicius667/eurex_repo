{
 "cells": [
  {
   "cell_type": "code",
   "execution_count": null,
   "metadata": {},
   "outputs": [],
   "source": [
    "from utils import *\n",
    "from variables import *\n",
    "from utils import parse_excel, read_pickle\n",
    "from glob import glob"
   ]
  },
  {
   "cell_type": "code",
   "execution_count": null,
   "metadata": {},
   "outputs": [],
   "source": [
    "auswahl = 1\n",
    "result = read_pickle(os.path.join(temp_results_path,f'{dict_index_stock[auswahl]}.pickle'))\n",
    "\n",
    "auswahl, ZentralKurs, volatility, InterestRate, tage_bis_verfall, nbd_dict, dict_prod_bus, stock_price, expiry, expiry_1, heute, list_email_send_selection, future_date_col = result\n",
    "\n",
    "Summery_df, HedgeBedarf_df, HedgeBedarf1_df, Ueberhaenge_df, delta= hedge(auswahl, ZentralKurs, volatility, InterestRate, tage_bis_verfall, dict_prod_bus, stock_price, expiry, expiry_1, heute)\n",
    "\n",
    "file_path = os.path.join(current_results_path, f\"{heute.strftime('%Y_%m_%d')}_{dict_index_stock[auswahl]}.pdf\")\n",
    "\n",
    "generate_pdfs(auswahl, Summery_df, HedgeBedarf_df, HedgeBedarf1_df, stock_price, heute, nbd_dict, tage_bis_verfall, delta, expiry, expiry_1, file_path)"
   ]
  },
  {
   "cell_type": "code",
   "execution_count": null,
   "metadata": {},
   "outputs": [],
   "source": [
    "dict_auswahl_prefix = {0 : \"\", 1 : \"STOXX_\"}\n",
    "\n",
    "\n",
    "list_files = glob(\"./excel_files/*.xlsm\")\n",
    "list_error_files = []\n",
    "\n",
    "for excel_path in  list_files: #['./excel_files/T_OI-Abfrage 2023-09-19 V9.00.xlsm']: \n",
    "\n",
    "    if \"stoxx\" in excel_path.lower():\n",
    "        auswahl = 1\n",
    "    else:\n",
    "        auswahl = 0\n",
    "\n",
    "    # These values are not tested by these script\n",
    "    auswahl, ZentralKurs, volatility, InterestRate, tage_bis_verfall, nbd_dict, dict_prod_bus, stock_price, expiry, expiry_1, heute, list_email_send_selection, future_date_col = parse_excel(auswahl, excel_path)\n",
    "    \n",
    "\n",
    "\n",
    "    Summery_df, HedgeBedarf_df, HedgeBedarf1_df, Ueberhaenge_df, delta= hedge(auswahl, ZentralKurs, volatility, InterestRate, tage_bis_verfall, dict_prod_bus, stock_price, expiry, expiry_1, heute)\n",
    "\n",
    "    summery_cols = ['Basis', 'Änderung', 'heute', 'last_day']\n",
    "    file_path = os.path.join(current_results_path, f\"{heute.strftime('%Y_%m_%d')}_{dict_index_stock[auswahl]}.pdf\")\n",
    "    generate_pdfs(auswahl, Summery_df, HedgeBedarf_df, HedgeBedarf1_df, stock_price, heute, nbd_dict, tage_bis_verfall, delta, expiry, expiry_1, file_path)\n",
    "    Summery_df = Summery_df[summery_cols]\n",
    "\n",
    "\n",
    "    HedgeBedarf_excel = pd.read_excel(excel_path, sheet_name = f\"{dict_auswahl_prefix[auswahl]}HedgeBedarf\",skiprows=3).rename(columns = {\"Unnamed: 0\" : \"Basis\", \"Unnamed: 2\" : \"HedgeSum\"})\n",
    "\n",
    "    del HedgeBedarf_excel['Unnamed: 1']\n",
    "    \n",
    "    HedgeBedarf1_excel = pd.read_excel(excel_path, sheet_name = f\"{dict_auswahl_prefix[auswahl]}HedgeBedarf+01\",skiprows=3).rename(columns = {\"Unnamed: 0\" : \"Basis\", \"Unnamed: 2\" : \"HedgeSum\"})[['Basis', 'HedgeSum']]\n",
    "\n",
    "\n",
    "    Summery_excel = pd.read_excel(excel_path, sheet_name = f\"{dict_auswahl_prefix[auswahl]}Summery\",skiprows=8).iloc[:,[0,1,2,3]]\n",
    "    Summery_excel.columns = summery_cols\n",
    "    Summery_excel = Summery_excel[pd.to_numeric(Summery_excel.Basis, errors= 'coerce').notna()]\n",
    "\n",
    "\n",
    "    compare1_df = HedgeBedarf_df[['Basis', 'HedgeSum']].merge(HedgeBedarf_excel[['Basis', 'HedgeSum']], on = 'Basis',suffixes=('_py', '_excel'))\n",
    "    # Biggest difference between python and excel\n",
    "    (compare1_df.HedgeSum_py - compare1_df.HedgeSum_excel).abs().max()\n",
    "    compare1_df['dif'] = (compare1_df.HedgeSum_py - compare1_df.HedgeSum_excel).abs()\n",
    "    max_dif1  = compare1_df.dif.abs().max()\n",
    "\n",
    "    compare2_df = HedgeBedarf1_df[['Basis', 'HedgeSum']].merge(HedgeBedarf1_excel, on = 'Basis',suffixes=('_py', '_excel'))\n",
    "    # Biggest difference between python and excel\n",
    "    (compare2_df.HedgeSum_py - compare2_df.HedgeSum_excel).abs().max()\n",
    "    compare2_df['dif'] = (compare2_df.HedgeSum_py - compare2_df.HedgeSum_excel).abs()\n",
    "    max_dif2  = compare2_df.dif.abs().max()\n",
    "\n",
    "\n",
    "    compare3_df = Summery_excel.merge(Summery_df, on = 'Basis', suffixes = ('_excel', '_python'))\n",
    "\n",
    "    list_max = []\n",
    "    for col in Summery_df.columns[1:]:\n",
    "        list_max.append((compare3_df[f'{col}_excel'] - compare3_df[f'{col}_python']).abs().max())\n",
    "\n",
    "    max_dif3 = max(list_max)\n",
    "\n",
    "\n",
    "    if max(max_dif1, max_dif2, max_dif3) > 1e-6:\n",
    "        list_error_files.append(excel_path)\n",
    "        raise ValueError(\"Excel and python results are not the same\")\n",
    "    print(\"Both files are the same.\")\n",
    "print(list_error_files)"
   ]
  }
 ],
 "metadata": {
  "kernelspec": {
   "display_name": "eurex",
   "language": "python",
   "name": "python3"
  },
  "language_info": {
   "codemirror_mode": {
    "name": "ipython",
    "version": 3
   },
   "file_extension": ".py",
   "mimetype": "text/x-python",
   "name": "python",
   "nbconvert_exporter": "python",
   "pygments_lexer": "ipython3",
   "version": "3.11.4"
  },
  "vscode": {
   "interpreter": {
    "hash": "57e2b15c4caf69ea5b54adbe49496b75ff27d72dd878598ef18ae1487f34bdf2"
   }
  }
 },
 "nbformat": 4,
 "nbformat_minor": 2
}
